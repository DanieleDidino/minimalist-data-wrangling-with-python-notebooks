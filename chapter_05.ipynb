{
 "cells": [
  {
   "attachments": {},
   "cell_type": "markdown",
   "metadata": {},
   "source": [
    "# Libraries"
   ]
  },
  {
   "cell_type": "code",
   "execution_count": 1,
   "metadata": {},
   "outputs": [
    {
     "name": "stdout",
     "output_type": "stream",
     "text": [
      "sys: 3.9.5 (tags/v3.9.5:0a7dcbd, May  3 2021, 17:27:52) [MSC v.1928 64 bit (AMD64)]\n",
      "numpy: 1.24.2\n",
      "scipy: 1.10.1\n",
      "pandas: 1.5.3\n",
      "matplotlib: 3.7.1\n",
      "seaborns 0.12.2\n"
     ]
    }
   ],
   "source": [
    "import numpy as np\n",
    "import scipy.stats\n",
    "import pandas as pd\n",
    "import matplotlib\n",
    "import matplotlib.pyplot as plt\n",
    "import seaborn as sns\n",
    "\n",
    "np.random.seed(123)\n",
    "\n",
    "# plot style\n",
    "plt.style.use(\"seaborn-v0_8\")\n",
    "# print(plt.style.available)\n",
    "\n",
    "# the \"R4\" palette\n",
    "_colours = [\"#000000f0\", \"#DF536Bf0\", \"#61D04Ff0\", \"#2297E6f0\",\n",
    "            \"#28E2E5f0\", \"#CD0BBCf0\", \"#F5C710f0\", \"#999999f0\"]\n",
    "\n",
    "_linestyles = [\"solid\", \"dashed\", \"dashdot\", \"dotted\"]\n",
    "\n",
    "# A different plotting style for each plotted line\n",
    "plt.rcParams[\"axes.prop_cycle\"] = plt.cycler(color=_colours, linestyle=_linestyles*2)\n",
    "plt.rcParams[\"patch.facecolor\"] = _colours[0]\n",
    "\n",
    "# Python version\n",
    "import sys\n",
    "print(f\"sys: {sys.version}\")\n",
    "print(f\"numpy: {np.__version__}\")\n",
    "print(f\"scipy: {scipy.__version__}\")\n",
    "print(f\"pandas: {pd.__version__}\")\n",
    "print(f\"matplotlib: {matplotlib.__version__}\")\n",
    "print(f\"seaborns {sns.__version__}\")"
   ]
  },
  {
   "cell_type": "markdown",
   "metadata": {},
   "source": [
    "# Load data"
   ]
  },
  {
   "cell_type": "code",
   "execution_count": 2,
   "metadata": {},
   "outputs": [],
   "source": [
    "heights = np.loadtxt(\"data/nhanes_adult_female_height_2020.txt\")\n",
    "income = np.loadtxt(\"data/uk_income_simulated_2020.txt\")"
   ]
  },
  {
   "attachments": {},
   "cell_type": "markdown",
   "metadata": {},
   "source": [
    "# Summarising data"
   ]
  },
  {
   "cell_type": "code",
   "execution_count": 3,
   "metadata": {},
   "outputs": [
    {
     "name": "stdout",
     "output_type": "stream",
     "text": [
      "Mean: 160.14 - Median: 160.1\n"
     ]
    }
   ],
   "source": [
    "print(f\"Mean: {round(np.mean(heights), 2)} - Median: {np.median(heights)}\")"
   ]
  },
  {
   "cell_type": "code",
   "execution_count": 4,
   "metadata": {},
   "outputs": [
    {
     "name": "stdout",
     "output_type": "stream",
     "text": [
      "Mean: 35779.99 - Median: 30042.0\n"
     ]
    }
   ],
   "source": [
    "print(f\"Mean: {np.mean(income).round(2)} - Median: {np.median(income)}\")"
   ]
  },
  {
   "cell_type": "code",
   "execution_count": 5,
   "metadata": {},
   "outputs": [
    {
     "name": "stdout",
     "output_type": "stream",
     "text": [
      "My mean: heights = 160.13679222932953\n",
      "np.mean: heights = 160.13679222932953\n",
      "My mean: income = 35779.994\n",
      "np.mean: income = 35779.994\n"
     ]
    }
   ],
   "source": [
    "def my_mean(d):\n",
    "    return np.sum(d) / len(d)\n",
    "\n",
    "\n",
    "print(f\"My mean: heights = {my_mean(heights)}\")\n",
    "print(f\"np.mean: heights = {np.mean(heights)}\")\n",
    "\n",
    "print(f\"My mean: income = {my_mean(income)}\")\n",
    "print(f\"np.mean: income = {np.mean(income)}\")"
   ]
  },
  {
   "cell_type": "code",
   "execution_count": 6,
   "metadata": {},
   "outputs": [
    {
     "name": "stdout",
     "output_type": "stream",
     "text": [
      "My median: heights = 160.1\n",
      "np.median: heights = 160.1\n",
      "My median: income = 30042.0\n",
      "np.median: income = 30042.0\n"
     ]
    }
   ],
   "source": [
    "def my_median(d):\n",
    "    d_sorted = np.sort(d)\n",
    "    n = len(d_sorted)\n",
    "    if (n % 2) == 0:\n",
    "        # even lenght\n",
    "        return (d_sorted[int(n/2)-1] + d_sorted[int(n/2)]) / 2\n",
    "    else:\n",
    "        # odd lenght\n",
    "        return d_sorted[int((n+1)/2)]\n",
    "\n",
    "\n",
    "print(f\"My median: heights = {my_median(heights)}\")\n",
    "print(f\"np.median: heights = {np.median(heights)}\")\n",
    "\n",
    "print(f\"My median: income = {my_median(income)}\")\n",
    "print(f\"np.median: income = {np.median(income)}\")"
   ]
  },
  {
   "cell_type": "code",
   "execution_count": 7,
   "metadata": {},
   "outputs": [
    {
     "name": "stdout",
     "output_type": "stream",
     "text": [
      "[131.1 155.3 160.1 164.8 189.3]\n",
      "131.1 160.1 189.3\n",
      "[146.45 174.  ]\n"
     ]
    }
   ],
   "source": [
    "print(np.quantile(heights, [0, 0.25, 0.5, 0.75, 1]))\n",
    "\n",
    "# 0 quantile is the min\n",
    "# 0.5 quantile is the median\n",
    "# 1 quantile is the max\n",
    "print(np.min(heights), np.median(heights), np.max(heights))\n",
    "\n",
    "print(np.quantile(heights, [0.025, 0.975]))\n"
   ]
  },
  {
   "cell_type": "code",
   "execution_count": 8,
   "metadata": {},
   "outputs": [
    {
     "data": {
      "image/png": "[encoded data removed]",
      "text/plain": [
       "<Figure size 1080x216 with 2 Axes>"
      ]
     },
     "metadata": {
      "needs_background": "light"
     },
     "output_type": "display_data"
    }
   ],
   "source": [
    "plt.figure(figsize=[15, 3])\n",
    "\n",
    "plt.subplot(1, 2, 1)\n",
    "sns.boxplot(data=heights, orient=\"h\", color=\"lightgray\")\n",
    "plt.plot(np.mean(heights), 0, \"rX\") # plot the mean\n",
    "plt.yticks([0], [\"heights\"])\n",
    "\n",
    "plt.subplot(1, 2, 2)\n",
    "sns.boxplot(data=income, orient=\"h\", color=\"lightgray\")\n",
    "plt.plot(np.mean(income), 0, \"rX\") # plot the mean\n",
    "plt.yticks([0], [\"income\"])\n",
    "plt.show()\n"
   ]
  },
  {
   "cell_type": "code",
   "execution_count": 9,
   "metadata": {},
   "outputs": [
    {
     "data": {
      "image/png": "[encoded data removed]",
      "text/plain": [
       "<Figure size 1080x216 with 2 Axes>"
      ]
     },
     "metadata": {
      "needs_background": "light"
     },
     "output_type": "display_data"
    }
   ],
   "source": [
    "plt.figure(figsize=[15, 3])\n",
    "\n",
    "plt.subplot(1, 2, 1)\n",
    "sns.violinplot(data=heights, orient=\"h\", color=\"lightgray\")\n",
    "plt.plot(np.mean(heights), 0, \"rX\") # plot the mean\n",
    "plt.yticks([0], [\"heights\"])\n",
    "\n",
    "plt.subplot(1, 2, 2)\n",
    "sns.violinplot(data=income, orient=\"h\", color=\"lightgray\")\n",
    "plt.plot(np.mean(income), 0, \"rX\") # plot the mean\n",
    "plt.yticks([0], [\"income\"])\n",
    "plt.show()"
   ]
  },
  {
   "attachments": {},
   "cell_type": "markdown",
   "metadata": {},
   "source": [
    "# Transforming data"
   ]
  },
  {
   "cell_type": "code",
   "execution_count": 10,
   "metadata": {},
   "outputs": [
    {
     "name": "stdout",
     "output_type": "stream",
     "text": [
      "Mean heights: 160.14\n",
      "SD heights: 7.06\n",
      "Mean standardized heights: 0.0\n",
      "SD standardized heights: 1.0\n"
     ]
    }
   ],
   "source": [
    "# Standardization and Z-score\n",
    "\n",
    "print(f\"Mean heights: {np.round(np.mean(heights), 2)}\")\n",
    "print(f\"SD heights: {np.round(np.std(heights), 2)}\")\n",
    "\n",
    "heights_std = (heights - np.mean(heights)) / np.std(heights)\n",
    "\n",
    "print(f\"Mean standardized heights: {np.round(np.mean(heights_std), 2)}\")\n",
    "print(f\"SD standardized heights: {np.round(np.std(heights_std), 2)}\")"
   ]
  },
  {
   "cell_type": "code",
   "execution_count": 11,
   "metadata": {},
   "outputs": [
    {
     "name": "stdout",
     "output_type": "stream",
     "text": [
      "Mean heights: 160.14\n",
      "SD heights: 7.06\n",
      "Min clipped heights: 0.0\n",
      "Max clipped heights: 1.0\n",
      "SD clipped heights: 0.12\n"
     ]
    }
   ],
   "source": [
    "# Min-Max Scaling and Clipping\n",
    "\n",
    "print(f\"Mean heights: {np.round(np.mean(heights), 2)}\")\n",
    "print(f\"SD heights: {np.round(np.std(heights), 2)}\")\n",
    "\n",
    "heights_mm = (heights - np.min(heights)) / (np.max(heights) - np.min(heights))\n",
    "\n",
    "print(f\"Min clipped heights: {np.round(np.min(heights_mm), 2)}\")\n",
    "print(f\"Max clipped heights: {np.round(np.max(heights_mm), 2)}\")\n",
    "print(f\"SD clipped heights: {np.round(np.std(heights_mm), 2)}\")"
   ]
  },
  {
   "cell_type": "code",
   "execution_count": 12,
   "metadata": {},
   "outputs": [
    {
     "name": "stdout",
     "output_type": "stream",
     "text": [
      "Mean heights: 160.14\n",
      "SD heights: 7.06\n",
      "Mean normalized heights: 0.01538\n",
      "SD normalized heights: 0.00068\n"
     ]
    }
   ],
   "source": [
    "# Normalization (L2, dividing by sum of squares)\n",
    "\n",
    "print(f\"Mean heights: {np.round(np.mean(heights), 2)}\")\n",
    "print(f\"SD heights: {np.round(np.std(heights), 2)}\")\n",
    "\n",
    "heights_L2 = heights / np.sqrt(np.sum(heights**2))\n",
    "\n",
    "print(f\"Mean normalized heights: {np.round(np.mean(heights_L2), 5)}\")\n",
    "print(f\"SD normalized heights: {np.round(np.std(heights_L2), 5)}\")\n"
   ]
  },
  {
   "cell_type": "code",
   "execution_count": 13,
   "metadata": {},
   "outputs": [
    {
     "name": "stdout",
     "output_type": "stream",
     "text": [
      "Mean heights: 160.14\n",
      "SD heights: 7.06\n",
      "Mean normalized heights: 0.00024\n",
      "SD normalized heights: 1e-05\n"
     ]
    }
   ],
   "source": [
    "# Normalization (L1, dividing by sum)\n",
    "\n",
    "print(f\"Mean heights: {np.round(np.mean(heights), 2)}\")\n",
    "print(f\"SD heights: {np.round(np.std(heights), 2)}\")\n",
    "\n",
    "heights_L1 = heights / np.sum(np.abs(heights))\n",
    "\n",
    "print(f\"Mean normalized heights: {np.round(np.mean(heights_L1), 5)}\")\n",
    "print(f\"SD normalized heights: {np.round(np.std(heights_L1), 5)}\")\n"
   ]
  }
 ],
 "metadata": {
  "kernelspec": {
   "display_name": "Python 3",
   "language": "python",
   "name": "python3"
  },
  "language_info": {
   "codemirror_mode": {
    "name": "ipython",
    "version": 3
   },
   "file_extension": ".py",
   "mimetype": "text/x-python",
   "name": "python",
   "nbconvert_exporter": "python",
   "pygments_lexer": "ipython3",
   "version": "3.9.5"
  },
  "orig_nbformat": 4
 },
 "nbformat": 4,
 "nbformat_minor": 2
}
