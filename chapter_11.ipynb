{
 "cells": [
  {
   "cell_type": "code",
   "execution_count": 1,
   "id": "2643f68d-826b-4a18-afee-27762fa26d48",
   "metadata": {},
   "outputs": [
    {
     "name": "stdout",
     "output_type": "stream",
     "text": [
      "sys: 3.9.5 (tags/v3.9.5:0a7dcbd, May  3 2021, 17:27:52) [MSC v.1928 64 bit (AMD64)]\n",
      "numpy: 1.24.2\n",
      "scipy: 1.10.1\n",
      "pandas: 1.5.3\n",
      "matplotlib: 3.7.1\n",
      "seaborns 0.12.2\n"
     ]
    }
   ],
   "source": [
    "import sys\n",
    "import numpy as np\n",
    "import scipy.stats\n",
    "import pandas as pd\n",
    "import matplotlib\n",
    "import matplotlib.pyplot as plt\n",
    "import seaborn as sns\n",
    "\n",
    "np.random.seed(123)\n",
    "\n",
    "# plot style\n",
    "plt.style.use(\"seaborn-v0_8\")\n",
    "# print(plt.style.available)\n",
    "\n",
    "# the \"R4\" palette\n",
    "_colours = [\"#000000f0\", \"#DF536Bf0\", \"#61D04Ff0\", \"#2297E6f0\",\n",
    "            \"#28E2E5f0\", \"#CD0BBCf0\", \"#F5C710f0\", \"#999999f0\"]\n",
    "\n",
    "_linestyles = [\"solid\", \"dashed\", \"dashdot\", \"dotted\"]\n",
    "\n",
    "# A different plotting style for each plotted line\n",
    "plt.rcParams[\"axes.prop_cycle\"] = plt.cycler(color=_colours, linestyle=_linestyles*2)\n",
    "plt.rcParams[\"patch.facecolor\"] = _colours[0]\n",
    "\n",
    "# Python version\n",
    "print(f\"sys: {sys.version}\")\n",
    "print(f\"numpy: {np.__version__}\")\n",
    "print(f\"scipy: {scipy.__version__}\")\n",
    "print(f\"pandas: {pd.__version__}\")\n",
    "print(f\"matplotlib: {matplotlib.__version__}\")\n",
    "print(f\"seaborns {sns.__version__}\")"
   ]
  },
  {
   "attachments": {},
   "cell_type": "markdown",
   "id": "ca9da849",
   "metadata": {},
   "source": [
    "# Load data"
   ]
  },
  {
   "cell_type": "code",
   "execution_count": 2,
   "id": "a1e75f2f",
   "metadata": {},
   "outputs": [
    {
     "name": "stdout",
     "output_type": "stream",
     "text": [
      "Shape: (6511, 4)\n",
      "\n",
      "dtypes:\n",
      "sex          object\n",
      "country      object\n",
      "category     object\n",
      "mins        float64\n",
      "dtype: object\n"
     ]
    }
   ],
   "source": [
    "marathon = pd.read_csv(\"data/37_pzu_warsaw_marathon_simplified.csv\", comment=\"#\")\n",
    "\n",
    "print(f\"Shape: {marathon.shape}\")\n",
    "print(f\"\\ndtypes:\\n{marathon.dtypes}\")"
   ]
  },
  {
   "cell_type": "code",
   "execution_count": 3,
   "id": "bf7e2b2e",
   "metadata": {},
   "outputs": [
    {
     "data": {
      "text/html": [
       "<div>\n",
       "<style scoped>\n",
       "    .dataframe tbody tr th:only-of-type {\n",
       "        vertical-align: middle;\n",
       "    }\n",
       "\n",
       "    .dataframe tbody tr th {\n",
       "        vertical-align: top;\n",
       "    }\n",
       "\n",
       "    .dataframe thead th {\n",
       "        text-align: right;\n",
       "    }\n",
       "</style>\n",
       "<table border=\"1\" class=\"dataframe\">\n",
       "  <thead>\n",
       "    <tr style=\"text-align: right;\">\n",
       "      <th></th>\n",
       "      <th>sex</th>\n",
       "      <th>country</th>\n",
       "      <th>category</th>\n",
       "      <th>mins</th>\n",
       "    </tr>\n",
       "  </thead>\n",
       "  <tbody>\n",
       "    <tr>\n",
       "      <th>0</th>\n",
       "      <td>M</td>\n",
       "      <td>KE</td>\n",
       "      <td>M20</td>\n",
       "      <td>129.32</td>\n",
       "    </tr>\n",
       "    <tr>\n",
       "      <th>1</th>\n",
       "      <td>M</td>\n",
       "      <td>KE</td>\n",
       "      <td>M20</td>\n",
       "      <td>130.75</td>\n",
       "    </tr>\n",
       "    <tr>\n",
       "      <th>2</th>\n",
       "      <td>M</td>\n",
       "      <td>KE</td>\n",
       "      <td>M20</td>\n",
       "      <td>130.97</td>\n",
       "    </tr>\n",
       "    <tr>\n",
       "      <th>3</th>\n",
       "      <td>M</td>\n",
       "      <td>ET</td>\n",
       "      <td>M20</td>\n",
       "      <td>134.17</td>\n",
       "    </tr>\n",
       "    <tr>\n",
       "      <th>4</th>\n",
       "      <td>M</td>\n",
       "      <td>KE</td>\n",
       "      <td>M30</td>\n",
       "      <td>134.68</td>\n",
       "    </tr>\n",
       "    <tr>\n",
       "      <th>5</th>\n",
       "      <td>M</td>\n",
       "      <td>KE</td>\n",
       "      <td>M30</td>\n",
       "      <td>135.97</td>\n",
       "    </tr>\n",
       "    <tr>\n",
       "      <th>6</th>\n",
       "      <td>M</td>\n",
       "      <td>ET</td>\n",
       "      <td>M20</td>\n",
       "      <td>139.88</td>\n",
       "    </tr>\n",
       "    <tr>\n",
       "      <th>7</th>\n",
       "      <td>M</td>\n",
       "      <td>MA</td>\n",
       "      <td>M30</td>\n",
       "      <td>143.20</td>\n",
       "    </tr>\n",
       "    <tr>\n",
       "      <th>8</th>\n",
       "      <td>M</td>\n",
       "      <td>PL</td>\n",
       "      <td>M30</td>\n",
       "      <td>145.22</td>\n",
       "    </tr>\n",
       "    <tr>\n",
       "      <th>9</th>\n",
       "      <td>M</td>\n",
       "      <td>PL</td>\n",
       "      <td>M30</td>\n",
       "      <td>145.92</td>\n",
       "    </tr>\n",
       "  </tbody>\n",
       "</table>\n",
       "</div>"
      ],
      "text/plain": [
       "  sex country category    mins\n",
       "0   M      KE      M20  129.32\n",
       "1   M      KE      M20  130.75\n",
       "2   M      KE      M20  130.97\n",
       "3   M      ET      M20  134.17\n",
       "4   M      KE      M30  134.68\n",
       "5   M      KE      M30  135.97\n",
       "6   M      ET      M20  139.88\n",
       "7   M      MA      M30  143.20\n",
       "8   M      PL      M30  145.22\n",
       "9   M      PL      M30  145.92"
      ]
     },
     "execution_count": 3,
     "metadata": {},
     "output_type": "execute_result"
    }
   ],
   "source": [
    "marathon.head(10)"
   ]
  },
  {
   "cell_type": "code",
   "execution_count": 4,
   "id": "d540c70e",
   "metadata": {},
   "outputs": [
    {
     "data": {
      "text/html": [
       "<div>\n",
       "<style scoped>\n",
       "    .dataframe tbody tr th:only-of-type {\n",
       "        vertical-align: middle;\n",
       "    }\n",
       "\n",
       "    .dataframe tbody tr th {\n",
       "        vertical-align: top;\n",
       "    }\n",
       "\n",
       "    .dataframe thead th {\n",
       "        text-align: right;\n",
       "    }\n",
       "</style>\n",
       "<table border=\"1\" class=\"dataframe\">\n",
       "  <thead>\n",
       "    <tr style=\"text-align: right;\">\n",
       "      <th></th>\n",
       "      <th>mins</th>\n",
       "    </tr>\n",
       "  </thead>\n",
       "  <tbody>\n",
       "    <tr>\n",
       "      <th>count</th>\n",
       "      <td>6511.000000</td>\n",
       "    </tr>\n",
       "    <tr>\n",
       "      <th>mean</th>\n",
       "      <td>250.144184</td>\n",
       "    </tr>\n",
       "    <tr>\n",
       "      <th>std</th>\n",
       "      <td>39.095879</td>\n",
       "    </tr>\n",
       "    <tr>\n",
       "      <th>min</th>\n",
       "      <td>129.320000</td>\n",
       "    </tr>\n",
       "    <tr>\n",
       "      <th>25%</th>\n",
       "      <td>223.000000</td>\n",
       "    </tr>\n",
       "    <tr>\n",
       "      <th>50%</th>\n",
       "      <td>244.650000</td>\n",
       "    </tr>\n",
       "    <tr>\n",
       "      <th>75%</th>\n",
       "      <td>275.710000</td>\n",
       "    </tr>\n",
       "    <tr>\n",
       "      <th>max</th>\n",
       "      <td>414.120000</td>\n",
       "    </tr>\n",
       "  </tbody>\n",
       "</table>\n",
       "</div>"
      ],
      "text/plain": [
       "              mins\n",
       "count  6511.000000\n",
       "mean    250.144184\n",
       "std      39.095879\n",
       "min     129.320000\n",
       "25%     223.000000\n",
       "50%     244.650000\n",
       "75%     275.710000\n",
       "max     414.120000"
      ]
     },
     "execution_count": 4,
     "metadata": {},
     "output_type": "execute_result"
    }
   ],
   "source": [
    "marathon.describe()"
   ]
  },
  {
   "cell_type": "code",
   "execution_count": 5,
   "id": "830ce189",
   "metadata": {},
   "outputs": [
    {
     "name": "stdout",
     "output_type": "stream",
     "text": [
      "<class 'pandas.core.frame.DataFrame'>\n",
      "RangeIndex: 6511 entries, 0 to 6510\n",
      "Data columns (total 4 columns):\n",
      " #   Column    Non-Null Count  Dtype  \n",
      "---  ------    --------------  -----  \n",
      " 0   sex       6511 non-null   object \n",
      " 1   country   6511 non-null   object \n",
      " 2   category  6511 non-null   object \n",
      " 3   mins      6511 non-null   float64\n",
      "dtypes: float64(1), object(3)\n",
      "memory usage: 203.6+ KB\n"
     ]
    }
   ],
   "source": [
    "marathon.info()"
   ]
  },
  {
   "cell_type": "code",
   "execution_count": 6,
   "id": "396dbaac",
   "metadata": {},
   "outputs": [
    {
     "name": "stdout",
     "output_type": "stream",
     "text": [
      "Sex:\n",
      "['M' 'F']\n",
      "\n",
      "Counrty:\n",
      "['KE' 'ET' 'MA' 'PL' 'IL' 'MD' 'UA' 'LT' 'GR' 'SE' 'GB' 'FR' 'NO' 'DE'\n",
      " 'LV' 'ES' 'IT' 'FI' 'CZ' 'US' 'IN' 'DK' 'SK' 'BY' 'AT' 'SG' 'CA' 'CY'\n",
      " 'MX' 'EE' 'RU' 'JP' 'NL' 'BE' 'IR' 'NZ' 'RO' 'IE' 'CH' 'HU' 'BG' 'PE'\n",
      " 'IC' 'HK' 'DZ' 'KR' 'AE' 'AU' 'SI' 'MN' 'CO' 'NG' 'CN' 'PT' 'EC' 'KZ']\n",
      "\n",
      "Category:\n",
      "['M20' 'M30' 'F30' 'F20' 'M50' 'M40' 'M60' 'F40' 'F50' 'M70' 'F60' 'F70']\n"
     ]
    }
   ],
   "source": [
    "print(f\"Sex:\\n{pd.unique(marathon.sex)}\")\n",
    "print(f\"\\nCounrty:\\n{pd.unique(marathon.country)}\")\n",
    "print(f\"\\nCategory:\\n{pd.unique(marathon.category)}\")"
   ]
  },
  {
   "cell_type": "code",
   "execution_count": 7,
   "id": "bf69e42f",
   "metadata": {},
   "outputs": [
    {
     "name": "stdout",
     "output_type": "stream",
     "text": [
      "Codes\n",
      "[0 0 0 ... 4 4 1]\n",
      "\n",
      "Categories:\n",
      "Index(['M20', 'M30', 'F30', 'F20', 'M50', 'M40', 'M60', 'F40', 'F50', 'M70',\n",
      "       'F60', 'F70'],\n",
      "      dtype='object')\n"
     ]
    }
   ],
   "source": [
    "codes_ctgr, cat_ctgr = pd.factorize(marathon.category)\n",
    "\n",
    "print(f\"Codes\\n{codes_ctgr}\")\n",
    "print(f\"\\nCategories:\\n{cat_ctgr}\")"
   ]
  },
  {
   "cell_type": "code",
   "execution_count": 8,
   "id": "bb62e6c2",
   "metadata": {},
   "outputs": [
    {
     "data": {
      "text/plain": [
       "array([3, 0, 2, 4, 1])"
      ]
     },
     "execution_count": 8,
     "metadata": {},
     "output_type": "execute_result"
    }
   ],
   "source": [
    "new_codes = np.array([3, 0, 2, 4, 1])\n",
    "new_codes"
   ]
  },
  {
   "cell_type": "code",
   "execution_count": 9,
   "id": "96a1834e",
   "metadata": {},
   "outputs": [
    {
     "data": {
      "text/plain": [
       "array([1, 4, 2, 0, 3], dtype=int64)"
      ]
     },
     "execution_count": 9,
     "metadata": {},
     "output_type": "execute_result"
    }
   ],
   "source": [
    "np.argsort(new_codes)"
   ]
  },
  {
   "cell_type": "code",
   "execution_count": 10,
   "id": "c63c3c89",
   "metadata": {},
   "outputs": [
    {
     "name": "stdout",
     "output_type": "stream",
     "text": [
      "[ 10   1   2 600]\n",
      "[1 2 0 3]\n",
      "[  1   2  10 600]\n"
     ]
    }
   ],
   "source": [
    "a1 = np.array([10, 1, 2, 600])\n",
    "print(a1)\n",
    "a2 = np.argsort(a1)\n",
    "print(a2)\n",
    "print(a1[a2])\n"
   ]
  },
  {
   "attachments": {},
   "cell_type": "markdown",
   "id": "b3bc688b",
   "metadata": {},
   "source": [
    "# Categorical type"
   ]
  },
  {
   "cell_type": "code",
   "execution_count": 11,
   "id": "2859e9cd",
   "metadata": {},
   "outputs": [
    {
     "name": "stdout",
     "output_type": "stream",
     "text": [
      "<class 'pandas.core.frame.DataFrame'>\n",
      "RangeIndex: 6511 entries, 0 to 6510\n",
      "Data columns (total 4 columns):\n",
      " #   Column    Non-Null Count  Dtype  \n",
      "---  ------    --------------  -----  \n",
      " 0   sex       6511 non-null   object \n",
      " 1   country   6511 non-null   object \n",
      " 2   category  6511 non-null   object \n",
      " 3   mins      6511 non-null   float64\n",
      "dtypes: float64(1), object(3)\n",
      "memory usage: 203.6+ KB\n"
     ]
    }
   ],
   "source": [
    "marathon.info()"
   ]
  },
  {
   "cell_type": "code",
   "execution_count": 12,
   "id": "cefd2db2",
   "metadata": {},
   "outputs": [],
   "source": [
    "marathon[\"sex\"] = marathon[\"sex\"].astype(\"category\")\n",
    "marathon[\"country\"] = marathon[\"country\"].astype(\"category\")\n",
    "marathon[\"category\"] = marathon[\"category\"].astype(\"category\")"
   ]
  },
  {
   "cell_type": "code",
   "execution_count": 13,
   "id": "5a9fae2c",
   "metadata": {},
   "outputs": [
    {
     "name": "stdout",
     "output_type": "stream",
     "text": [
      "<class 'pandas.core.frame.DataFrame'>\n",
      "RangeIndex: 6511 entries, 0 to 6510\n",
      "Data columns (total 4 columns):\n",
      " #   Column    Non-Null Count  Dtype   \n",
      "---  ------    --------------  -----   \n",
      " 0   sex       6511 non-null   category\n",
      " 1   country   6511 non-null   category\n",
      " 2   category  6511 non-null   category\n",
      " 3   mins      6511 non-null   float64 \n",
      "dtypes: category(3), float64(1)\n",
      "memory usage: 73.1 KB\n"
     ]
    }
   ],
   "source": [
    "marathon.info()"
   ]
  },
  {
   "cell_type": "code",
   "execution_count": 14,
   "id": "f6c83381",
   "metadata": {},
   "outputs": [
    {
     "name": "stdout",
     "output_type": "stream",
     "text": [
      "0       32\n",
      "1       32\n",
      "2       32\n",
      "3       18\n",
      "4       32\n",
      "        ..\n",
      "6506    46\n",
      "6507    46\n",
      "6508    46\n",
      "6509    46\n",
      "6510    46\n",
      "Length: 6511, dtype: int8\n",
      "\n",
      " Index(['AE', 'AT', 'AU', 'BE', 'BG', 'BY', 'CA', 'CH', 'CN', 'CO', 'CY', 'CZ',\n",
      "       'DE', 'DK', 'DZ', 'EC', 'EE', 'ES', 'ET', 'FI', 'FR', 'GB', 'GR', 'HK',\n",
      "       'HU', 'IC', 'IE', 'IL', 'IN', 'IR', 'IT', 'JP', 'KE', 'KR', 'KZ', 'LT',\n",
      "       'LV', 'MA', 'MD', 'MN', 'MX', 'NG', 'NL', 'NO', 'NZ', 'PE', 'PL', 'PT',\n",
      "       'RO', 'RU', 'SE', 'SG', 'SI', 'SK', 'UA', 'US'],\n",
      "      dtype='object')\n"
     ]
    }
   ],
   "source": [
    "# print(marathon.country.iloc[:10].cat.codes)\n",
    "print(marathon.country.cat.codes)\n",
    "print(\"\\n\", marathon.country.cat.categories)\n"
   ]
  },
  {
   "attachments": {},
   "cell_type": "markdown",
   "id": "f77ec200",
   "metadata": {},
   "source": [
    "# Binning Numeric Data"
   ]
  },
  {
   "cell_type": "code",
   "execution_count": 15,
   "id": "4376f11c",
   "metadata": {},
   "outputs": [
    {
     "data": {
      "text/plain": [
       "array([129.32, 130.75, 130.97, 134.17, 134.68, 135.97, 139.88, 143.2 ,\n",
       "       145.22, 145.92, 146.83, 147.8 , 149.65, 149.88, 152.65, 152.88])"
      ]
     },
     "execution_count": 15,
     "metadata": {},
     "output_type": "execute_result"
    }
   ],
   "source": [
    "mins = np.array(marathon.mins)\n",
    "mins16 = mins[:16]\n",
    "mins16"
   ]
  },
  {
   "cell_type": "code",
   "execution_count": 16,
   "id": "7f7dfa08",
   "metadata": {},
   "outputs": [
    {
     "name": "stdout",
     "output_type": "stream",
     "text": [
      "[129.32 130.75 130.97 134.17 134.68 135.97 139.88 143.2  145.22 145.92\n",
      " 146.83 147.8  149.65 149.88 152.65 152.88]\n",
      "[0 1 1 1 1 1 1 2 2 2 2 2 2 2 3 3]\n"
     ]
    }
   ],
   "source": [
    "bins = [130, 140, 150]\n",
    "codes_mins16 = np.searchsorted(bins, mins16)\n",
    "\n",
    "print(mins16)\n",
    "print(codes_mins16)"
   ]
  },
  {
   "cell_type": "code",
   "execution_count": 17,
   "id": "27d1e422",
   "metadata": {},
   "outputs": [
    {
     "data": {
      "text/plain": [
       "0      (-inf, 130.0]\n",
       "1     (130.0, 140.0]\n",
       "2     (130.0, 140.0]\n",
       "3     (130.0, 140.0]\n",
       "4     (130.0, 140.0]\n",
       "5     (130.0, 140.0]\n",
       "6     (130.0, 140.0]\n",
       "7     (140.0, 150.0]\n",
       "8     (140.0, 150.0]\n",
       "9     (140.0, 150.0]\n",
       "10    (140.0, 150.0]\n",
       "11    (140.0, 150.0]\n",
       "12    (140.0, 150.0]\n",
       "13    (140.0, 150.0]\n",
       "14      (150.0, inf]\n",
       "15      (150.0, inf]\n",
       "dtype: category\n",
       "Categories (4, interval[float64, right]): [(-inf, 130.0] < (130.0, 140.0] < (140.0, 150.0] < (150.0, inf]]"
      ]
     },
     "execution_count": 17,
     "metadata": {},
     "output_type": "execute_result"
    }
   ],
   "source": [
    "cut_mins16 = pd.Series(pd.cut(mins16, [-np.inf, 130, 140, 150, np.inf]))\n",
    "cut_mins16"
   ]
  },
  {
   "cell_type": "code",
   "execution_count": 18,
   "id": "c53f80f4",
   "metadata": {},
   "outputs": [
    {
     "data": {
      "text/plain": [
       "IntervalIndex([(-inf, 130.0], (130.0, 140.0], (140.0, 150.0], (150.0, inf]], dtype='interval[float64, right]')"
      ]
     },
     "execution_count": 18,
     "metadata": {},
     "output_type": "execute_result"
    }
   ],
   "source": [
    "cut_mins16.cat.categories"
   ]
  },
  {
   "attachments": {},
   "cell_type": "markdown",
   "id": "c1056cd8",
   "metadata": {},
   "source": [
    "# Frequency distribution"
   ]
  },
  {
   "cell_type": "code",
   "execution_count": 19,
   "id": "69f87295",
   "metadata": {},
   "outputs": [
    {
     "data": {
      "text/plain": [
       "M30    2200\n",
       "M40    1708\n",
       "M20     879\n",
       "M50     541\n",
       "F30     449\n",
       "F40     262\n",
       "F20     240\n",
       "M60     151\n",
       "F50      43\n",
       "M70      19\n",
       "F60      18\n",
       "F70       1\n",
       "Name: category, dtype: int64"
      ]
     },
     "execution_count": 19,
     "metadata": {},
     "output_type": "execute_result"
    }
   ],
   "source": [
    "pd.Series(marathon.category).value_counts()"
   ]
  },
  {
   "cell_type": "code",
   "execution_count": 20,
   "id": "a48cf9f3",
   "metadata": {},
   "outputs": [
    {
     "data": {
      "text/plain": [
       "M30    0.337890\n",
       "M40    0.262325\n",
       "M20    0.135002\n",
       "M50    0.083090\n",
       "F30    0.068960\n",
       "F40    0.040240\n",
       "F20    0.036861\n",
       "M60    0.023192\n",
       "F50    0.006604\n",
       "M70    0.002918\n",
       "F60    0.002765\n",
       "F70    0.000154\n",
       "Name: category, dtype: float64"
      ]
     },
     "execution_count": 20,
     "metadata": {},
     "output_type": "execute_result"
    }
   ],
   "source": [
    "# vector of proportions (fractions)\n",
    "pd.Series(marathon.category).value_counts() / len(marathon.category)"
   ]
  },
  {
   "cell_type": "code",
   "execution_count": 21,
   "id": "2762c76b",
   "metadata": {},
   "outputs": [
    {
     "data": {
      "text/plain": [
       "M30    33.788973\n",
       "M40    26.232530\n",
       "M20    13.500230\n",
       "M50     8.309016\n",
       "F30     6.896022\n",
       "F40     4.023959\n",
       "F20     3.686070\n",
       "M60     2.319152\n",
       "F50     0.660421\n",
       "M70     0.291814\n",
       "F60     0.276455\n",
       "F70     0.015359\n",
       "Name: category, dtype: float64"
      ]
     },
     "execution_count": 21,
     "metadata": {},
     "output_type": "execute_result"
    }
   ],
   "source": [
    "# vector of percentages\n",
    "(pd.Series(marathon.category).value_counts() / len(marathon.category) ) * 100"
   ]
  },
  {
   "cell_type": "code",
   "execution_count": 22,
   "id": "cb0685f3",
   "metadata": {},
   "outputs": [
    {
     "name": "stdout",
     "output_type": "stream",
     "text": [
      "['M', 'F']\n",
      "Categories (2, object): ['F', 'M']\n",
      "\n",
      " ['M20', 'M30', 'F30', 'F20', 'M50', ..., 'F40', 'F50', 'M70', 'F60', 'F70']\n",
      "Length: 12\n",
      "Categories (12, object): ['F20', 'F30', 'F40', 'F50', ..., 'M40', 'M50', 'M60', 'M70']\n"
     ]
    }
   ],
   "source": [
    "print(pd.unique(marathon.sex))\n",
    "print('\\n', pd.unique(marathon.category))"
   ]
  },
  {
   "cell_type": "code",
   "execution_count": 23,
   "id": "f1382351",
   "metadata": {},
   "outputs": [
    {
     "name": "stdout",
     "output_type": "stream",
     "text": [
      "sex  category\n",
      "M    M30         2200\n",
      "     M40         1708\n",
      "     M20          879\n",
      "     M50          541\n",
      "F    F30          449\n",
      "     F40          262\n",
      "     F20          240\n",
      "M    M60          151\n",
      "F    F50           43\n",
      "M    M70           19\n",
      "F    F60           18\n",
      "     F70            1\n",
      "dtype: int64\n"
     ]
    }
   ],
   "source": [
    "c1 = marathon.loc[:, [\"sex\", \"category\"]].value_counts()\n",
    "print(c1)"
   ]
  },
  {
   "cell_type": "code",
   "execution_count": 24,
   "id": "5f53ab55",
   "metadata": {},
   "outputs": [
    {
     "data": {
      "text/plain": [
       "sex  category\n",
       "F    F20          240\n",
       "     F30          449\n",
       "     F40          262\n",
       "     F50           43\n",
       "     F60           18\n",
       "     F70            1\n",
       "M    M20          879\n",
       "     M30         2200\n",
       "     M40         1708\n",
       "     M50          541\n",
       "     M60          151\n",
       "     M70           19\n",
       "dtype: int64"
      ]
     },
     "execution_count": 24,
     "metadata": {},
     "output_type": "execute_result"
    }
   ],
   "source": [
    "marathon.loc[:, [\"sex\", \"category\"]].value_counts(sort=False)"
   ]
  },
  {
   "cell_type": "code",
   "execution_count": 25,
   "id": "b361be5b",
   "metadata": {},
   "outputs": [
    {
     "data": {
      "text/html": [
       "<div>\n",
       "<style scoped>\n",
       "    .dataframe tbody tr th:only-of-type {\n",
       "        vertical-align: middle;\n",
       "    }\n",
       "\n",
       "    .dataframe tbody tr th {\n",
       "        vertical-align: top;\n",
       "    }\n",
       "\n",
       "    .dataframe thead th {\n",
       "        text-align: right;\n",
       "    }\n",
       "</style>\n",
       "<table border=\"1\" class=\"dataframe\">\n",
       "  <thead>\n",
       "    <tr style=\"text-align: right;\">\n",
       "      <th>category</th>\n",
       "      <th>F20</th>\n",
       "      <th>F30</th>\n",
       "      <th>F40</th>\n",
       "      <th>F50</th>\n",
       "      <th>F60</th>\n",
       "      <th>F70</th>\n",
       "      <th>M20</th>\n",
       "      <th>M30</th>\n",
       "      <th>M40</th>\n",
       "      <th>M50</th>\n",
       "      <th>M60</th>\n",
       "      <th>M70</th>\n",
       "    </tr>\n",
       "    <tr>\n",
       "      <th>sex</th>\n",
       "      <th></th>\n",
       "      <th></th>\n",
       "      <th></th>\n",
       "      <th></th>\n",
       "      <th></th>\n",
       "      <th></th>\n",
       "      <th></th>\n",
       "      <th></th>\n",
       "      <th></th>\n",
       "      <th></th>\n",
       "      <th></th>\n",
       "      <th></th>\n",
       "    </tr>\n",
       "  </thead>\n",
       "  <tbody>\n",
       "    <tr>\n",
       "      <th>F</th>\n",
       "      <td>240</td>\n",
       "      <td>449</td>\n",
       "      <td>262</td>\n",
       "      <td>43</td>\n",
       "      <td>18</td>\n",
       "      <td>1</td>\n",
       "      <td>0</td>\n",
       "      <td>0</td>\n",
       "      <td>0</td>\n",
       "      <td>0</td>\n",
       "      <td>0</td>\n",
       "      <td>0</td>\n",
       "    </tr>\n",
       "    <tr>\n",
       "      <th>M</th>\n",
       "      <td>0</td>\n",
       "      <td>0</td>\n",
       "      <td>0</td>\n",
       "      <td>0</td>\n",
       "      <td>0</td>\n",
       "      <td>0</td>\n",
       "      <td>879</td>\n",
       "      <td>2200</td>\n",
       "      <td>1708</td>\n",
       "      <td>541</td>\n",
       "      <td>151</td>\n",
       "      <td>19</td>\n",
       "    </tr>\n",
       "  </tbody>\n",
       "</table>\n",
       "</div>"
      ],
      "text/plain": [
       "category  F20  F30  F40  F50  F60  F70  M20   M30   M40  M50  M60  M70\n",
       "sex                                                                   \n",
       "F         240  449  262   43   18    1    0     0     0    0    0    0\n",
       "M           0    0    0    0    0    0  879  2200  1708  541  151   19"
      ]
     },
     "execution_count": 25,
     "metadata": {},
     "output_type": "execute_result"
    }
   ],
   "source": [
    "c2 = c1.unstack(fill_value=0)\n",
    "c2"
   ]
  },
  {
   "cell_type": "code",
   "execution_count": 26,
   "id": "870fbfba",
   "metadata": {},
   "outputs": [
    {
     "data": {
      "text/plain": [
       "sex\n",
       "F    1013\n",
       "M    5498\n",
       "dtype: int64"
      ]
     },
     "execution_count": 26,
     "metadata": {},
     "output_type": "execute_result"
    }
   ],
   "source": [
    "c2.sum(axis=1)"
   ]
  },
  {
   "cell_type": "code",
   "execution_count": 27,
   "id": "9987a529",
   "metadata": {},
   "outputs": [
    {
     "data": {
      "text/plain": [
       "category\n",
       "F20     240\n",
       "F30     449\n",
       "F40     262\n",
       "F50      43\n",
       "F60      18\n",
       "F70       1\n",
       "M20     879\n",
       "M30    2200\n",
       "M40    1708\n",
       "M50     541\n",
       "M60     151\n",
       "M70      19\n",
       "dtype: int64"
      ]
     },
     "execution_count": 27,
     "metadata": {},
     "output_type": "execute_result"
    }
   ],
   "source": [
    "c2.sum(axis=0)"
   ]
  },
  {
   "cell_type": "code",
   "execution_count": 28,
   "id": "5ce6f05c",
   "metadata": {},
   "outputs": [
    {
     "data": {
      "text/html": [
       "<div>\n",
       "<style scoped>\n",
       "    .dataframe tbody tr th:only-of-type {\n",
       "        vertical-align: middle;\n",
       "    }\n",
       "\n",
       "    .dataframe tbody tr th {\n",
       "        vertical-align: top;\n",
       "    }\n",
       "\n",
       "    .dataframe thead th {\n",
       "        text-align: right;\n",
       "    }\n",
       "</style>\n",
       "<table border=\"1\" class=\"dataframe\">\n",
       "  <thead>\n",
       "    <tr style=\"text-align: right;\">\n",
       "      <th></th>\n",
       "      <th>country</th>\n",
       "      <th>sex</th>\n",
       "      <th>category</th>\n",
       "      <th>count</th>\n",
       "    </tr>\n",
       "  </thead>\n",
       "  <tbody>\n",
       "    <tr>\n",
       "      <th>0</th>\n",
       "      <td>UA</td>\n",
       "      <td>M</td>\n",
       "      <td>M20</td>\n",
       "      <td>8</td>\n",
       "    </tr>\n",
       "    <tr>\n",
       "      <th>1</th>\n",
       "      <td>UA</td>\n",
       "      <td>M</td>\n",
       "      <td>M30</td>\n",
       "      <td>8</td>\n",
       "    </tr>\n",
       "    <tr>\n",
       "      <th>2</th>\n",
       "      <td>UA</td>\n",
       "      <td>M</td>\n",
       "      <td>M50</td>\n",
       "      <td>3</td>\n",
       "    </tr>\n",
       "    <tr>\n",
       "      <th>3</th>\n",
       "      <td>UA</td>\n",
       "      <td>F</td>\n",
       "      <td>F30</td>\n",
       "      <td>2</td>\n",
       "    </tr>\n",
       "    <tr>\n",
       "      <th>4</th>\n",
       "      <td>UA</td>\n",
       "      <td>M</td>\n",
       "      <td>M40</td>\n",
       "      <td>2</td>\n",
       "    </tr>\n",
       "    <tr>\n",
       "      <th>5</th>\n",
       "      <td>SK</td>\n",
       "      <td>F</td>\n",
       "      <td>F50</td>\n",
       "      <td>1</td>\n",
       "    </tr>\n",
       "    <tr>\n",
       "      <th>6</th>\n",
       "      <td>SK</td>\n",
       "      <td>M</td>\n",
       "      <td>M40</td>\n",
       "      <td>1</td>\n",
       "    </tr>\n",
       "    <tr>\n",
       "      <th>7</th>\n",
       "      <td>SK</td>\n",
       "      <td>M</td>\n",
       "      <td>M70</td>\n",
       "      <td>1</td>\n",
       "    </tr>\n",
       "  </tbody>\n",
       "</table>\n",
       "</div>"
      ],
      "text/plain": [
       "  country sex category  count\n",
       "0      UA   M      M20      8\n",
       "1      UA   M      M30      8\n",
       "2      UA   M      M50      3\n",
       "3      UA   F      F30      2\n",
       "4      UA   M      M40      2\n",
       "5      SK   F      F50      1\n",
       "6      SK   M      M40      1\n",
       "7      SK   M      M70      1"
      ]
     },
     "execution_count": 28,
     "metadata": {},
     "output_type": "execute_result"
    }
   ],
   "source": [
    "c3 = (\n",
    "    marathon\n",
    "    .loc[\n",
    "        marathon.country.isin([\"UA\", \"SK\"]),\n",
    "        [\"country\", \"sex\", \"category\"]\n",
    "    ]\n",
    "    .value_counts()\n",
    "    .rename(\"count\")\n",
    "    .reset_index()\n",
    ")\n",
    "\n",
    "c3"
   ]
  },
  {
   "cell_type": "code",
   "execution_count": 29,
   "id": "1089a0de",
   "metadata": {},
   "outputs": [
    {
     "data": {
      "text/html": [
       "<div>\n",
       "<style scoped>\n",
       "    .dataframe tbody tr th:only-of-type {\n",
       "        vertical-align: middle;\n",
       "    }\n",
       "\n",
       "    .dataframe tbody tr th {\n",
       "        vertical-align: top;\n",
       "    }\n",
       "\n",
       "    .dataframe thead tr th {\n",
       "        text-align: left;\n",
       "    }\n",
       "\n",
       "    .dataframe thead tr:last-of-type th {\n",
       "        text-align: right;\n",
       "    }\n",
       "</style>\n",
       "<table border=\"1\" class=\"dataframe\">\n",
       "  <thead>\n",
       "    <tr>\n",
       "      <th></th>\n",
       "      <th></th>\n",
       "      <th colspan=\"7\" halign=\"left\">count</th>\n",
       "    </tr>\n",
       "    <tr>\n",
       "      <th></th>\n",
       "      <th>category</th>\n",
       "      <th>M20</th>\n",
       "      <th>M30</th>\n",
       "      <th>M50</th>\n",
       "      <th>F30</th>\n",
       "      <th>M40</th>\n",
       "      <th>F50</th>\n",
       "      <th>M70</th>\n",
       "    </tr>\n",
       "    <tr>\n",
       "      <th>country</th>\n",
       "      <th>sex</th>\n",
       "      <th></th>\n",
       "      <th></th>\n",
       "      <th></th>\n",
       "      <th></th>\n",
       "      <th></th>\n",
       "      <th></th>\n",
       "      <th></th>\n",
       "    </tr>\n",
       "  </thead>\n",
       "  <tbody>\n",
       "    <tr>\n",
       "      <th rowspan=\"2\" valign=\"top\">UA</th>\n",
       "      <th>F</th>\n",
       "      <td>0</td>\n",
       "      <td>0</td>\n",
       "      <td>0</td>\n",
       "      <td>2</td>\n",
       "      <td>0</td>\n",
       "      <td>0</td>\n",
       "      <td>0</td>\n",
       "    </tr>\n",
       "    <tr>\n",
       "      <th>M</th>\n",
       "      <td>8</td>\n",
       "      <td>8</td>\n",
       "      <td>3</td>\n",
       "      <td>0</td>\n",
       "      <td>2</td>\n",
       "      <td>0</td>\n",
       "      <td>0</td>\n",
       "    </tr>\n",
       "    <tr>\n",
       "      <th rowspan=\"2\" valign=\"top\">SK</th>\n",
       "      <th>F</th>\n",
       "      <td>0</td>\n",
       "      <td>0</td>\n",
       "      <td>0</td>\n",
       "      <td>0</td>\n",
       "      <td>0</td>\n",
       "      <td>1</td>\n",
       "      <td>0</td>\n",
       "    </tr>\n",
       "    <tr>\n",
       "      <th>M</th>\n",
       "      <td>0</td>\n",
       "      <td>0</td>\n",
       "      <td>0</td>\n",
       "      <td>0</td>\n",
       "      <td>1</td>\n",
       "      <td>0</td>\n",
       "      <td>1</td>\n",
       "    </tr>\n",
       "  </tbody>\n",
       "</table>\n",
       "</div>"
      ],
      "text/plain": [
       "            count                        \n",
       "category      M20 M30 M50 F30 M40 F50 M70\n",
       "country sex                              \n",
       "UA      F       0   0   0   2   0   0   0\n",
       "        M       8   8   3   0   2   0   0\n",
       "SK      F       0   0   0   0   0   1   0\n",
       "        M       0   0   0   0   1   0   1"
      ]
     },
     "execution_count": 29,
     "metadata": {},
     "output_type": "execute_result"
    }
   ],
   "source": [
    "c3.set_index([\"country\", \"sex\", \"category\"]).unstack(fill_value=0)"
   ]
  },
  {
   "attachments": {},
   "cell_type": "markdown",
   "id": "1fba3cd0",
   "metadata": {},
   "source": [
    "# Bar plot 1"
   ]
  },
  {
   "cell_type": "code",
   "execution_count": 30,
   "id": "84474215",
   "metadata": {},
   "outputs": [
    {
     "data": {
      "text/html": [
       "<div>\n",
       "<style scoped>\n",
       "    .dataframe tbody tr th:only-of-type {\n",
       "        vertical-align: middle;\n",
       "    }\n",
       "\n",
       "    .dataframe tbody tr th {\n",
       "        vertical-align: top;\n",
       "    }\n",
       "\n",
       "    .dataframe thead th {\n",
       "        text-align: right;\n",
       "    }\n",
       "</style>\n",
       "<table border=\"1\" class=\"dataframe\">\n",
       "  <thead>\n",
       "    <tr style=\"text-align: right;\">\n",
       "      <th></th>\n",
       "      <th>sex</th>\n",
       "      <th>country</th>\n",
       "      <th>category</th>\n",
       "      <th>mins</th>\n",
       "      <th>age</th>\n",
       "    </tr>\n",
       "  </thead>\n",
       "  <tbody>\n",
       "    <tr>\n",
       "      <th>0</th>\n",
       "      <td>M</td>\n",
       "      <td>KE</td>\n",
       "      <td>M20</td>\n",
       "      <td>129.32</td>\n",
       "      <td>20</td>\n",
       "    </tr>\n",
       "    <tr>\n",
       "      <th>1</th>\n",
       "      <td>M</td>\n",
       "      <td>KE</td>\n",
       "      <td>M20</td>\n",
       "      <td>130.75</td>\n",
       "      <td>20</td>\n",
       "    </tr>\n",
       "    <tr>\n",
       "      <th>2</th>\n",
       "      <td>M</td>\n",
       "      <td>KE</td>\n",
       "      <td>M20</td>\n",
       "      <td>130.97</td>\n",
       "      <td>20</td>\n",
       "    </tr>\n",
       "    <tr>\n",
       "      <th>3</th>\n",
       "      <td>M</td>\n",
       "      <td>ET</td>\n",
       "      <td>M20</td>\n",
       "      <td>134.17</td>\n",
       "      <td>20</td>\n",
       "    </tr>\n",
       "    <tr>\n",
       "      <th>4</th>\n",
       "      <td>M</td>\n",
       "      <td>KE</td>\n",
       "      <td>M30</td>\n",
       "      <td>134.68</td>\n",
       "      <td>30</td>\n",
       "    </tr>\n",
       "  </tbody>\n",
       "</table>\n",
       "</div>"
      ],
      "text/plain": [
       "  sex country category    mins age\n",
       "0   M      KE      M20  129.32  20\n",
       "1   M      KE      M20  130.75  20\n",
       "2   M      KE      M20  130.97  20\n",
       "3   M      ET      M20  134.17  20\n",
       "4   M      KE      M30  134.68  30"
      ]
     },
     "execution_count": 30,
     "metadata": {},
     "output_type": "execute_result"
    }
   ],
   "source": [
    "marathon.loc[:, \"age\"] = marathon.category.str.slice(1)\n",
    "marathon.loc[marathon.age >= \"60\", \"age\"] = \"60+\"\n",
    "marathon.head()"
   ]
  },
  {
   "cell_type": "code",
   "execution_count": 31,
   "id": "154b2e3e",
   "metadata": {},
   "outputs": [
    {
     "data": {
      "text/plain": [
       "Index(['20', '30', '40', '50', '60+'], dtype='object')"
      ]
     },
     "execution_count": 31,
     "metadata": {},
     "output_type": "execute_result"
    }
   ],
   "source": [
    "marathon.age.astype(\"category\").cat.categories"
   ]
  },
  {
   "cell_type": "code",
   "execution_count": 32,
   "id": "8e7369c9",
   "metadata": {},
   "outputs": [
    {
     "data": {
      "text/plain": [
       "20     1119\n",
       "30     2649\n",
       "40     1970\n",
       "50      584\n",
       "60+     189\n",
       "Name: age, dtype: int64"
      ]
     },
     "execution_count": 32,
     "metadata": {},
     "output_type": "execute_result"
    }
   ],
   "source": [
    "x = (\n",
    "    marathon\n",
    "    .age\n",
    "    .astype(\"category\")\n",
    "    .cat\n",
    "    .reorder_categories([\"20\", \"30\", \"40\", \"50\", \"60+\"])\n",
    "    .value_counts(sort=False)\n",
    ")\n",
    "\n",
    "x"
   ]
  },
  {
   "cell_type": "code",
   "execution_count": 33,
   "id": "5b558fdc",
   "metadata": {},
   "outputs": [
    {
     "name": "stdout",
     "output_type": "stream",
     "text": [
      "[0 1 2 3 4]\n"
     ]
    }
   ],
   "source": [
    "ind = np.arange(len(x))\n",
    "\n",
    "print(ind)"
   ]
  },
  {
   "cell_type": "code",
   "execution_count": 34,
   "id": "fed88e4e",
   "metadata": {},
   "outputs": [
    {
     "data": {
      "image/png": "[encoded data removed]",
      "text/plain": [
       "<Figure size 1080x360 with 1 Axes>"
      ]
     },
     "metadata": {
      "needs_background": "light"
     },
     "output_type": "display_data"
    }
   ],
   "source": [
    "plt.figure(figsize=(15,5))\n",
    "plt.bar(ind, height=x, color=\"lightgray\", edgecolor=\"black\", alpha=0.8)\n",
    "plt.xticks(ind, x.index)\n",
    "plt.show()"
   ]
  },
  {
   "attachments": {},
   "cell_type": "markdown",
   "id": "3bde80e4",
   "metadata": {},
   "source": [
    "# Bar plot 2"
   ]
  },
  {
   "cell_type": "code",
   "execution_count": 35,
   "id": "cdcb00dd",
   "metadata": {},
   "outputs": [
    {
     "data": {
      "text/html": [
       "<div>\n",
       "<style scoped>\n",
       "    .dataframe tbody tr th:only-of-type {\n",
       "        vertical-align: middle;\n",
       "    }\n",
       "\n",
       "    .dataframe tbody tr th {\n",
       "        vertical-align: top;\n",
       "    }\n",
       "\n",
       "    .dataframe thead th {\n",
       "        text-align: right;\n",
       "    }\n",
       "</style>\n",
       "<table border=\"1\" class=\"dataframe\">\n",
       "  <thead>\n",
       "    <tr style=\"text-align: right;\">\n",
       "      <th></th>\n",
       "      <th>country</th>\n",
       "      <th>count</th>\n",
       "    </tr>\n",
       "  </thead>\n",
       "  <tbody>\n",
       "    <tr>\n",
       "      <th>0</th>\n",
       "      <td>PL</td>\n",
       "      <td>6033</td>\n",
       "    </tr>\n",
       "    <tr>\n",
       "      <th>1</th>\n",
       "      <td>GB</td>\n",
       "      <td>71</td>\n",
       "    </tr>\n",
       "    <tr>\n",
       "      <th>2</th>\n",
       "      <td>DE</td>\n",
       "      <td>38</td>\n",
       "    </tr>\n",
       "    <tr>\n",
       "      <th>3</th>\n",
       "      <td>FR</td>\n",
       "      <td>33</td>\n",
       "    </tr>\n",
       "    <tr>\n",
       "      <th>4</th>\n",
       "      <td>SE</td>\n",
       "      <td>30</td>\n",
       "    </tr>\n",
       "    <tr>\n",
       "      <th>5</th>\n",
       "      <td>US</td>\n",
       "      <td>26</td>\n",
       "    </tr>\n",
       "    <tr>\n",
       "      <th>6</th>\n",
       "      <td>IT</td>\n",
       "      <td>26</td>\n",
       "    </tr>\n",
       "    <tr>\n",
       "      <th>7</th>\n",
       "      <td>UA</td>\n",
       "      <td>23</td>\n",
       "    </tr>\n",
       "    <tr>\n",
       "      <th>8</th>\n",
       "      <td>FI</td>\n",
       "      <td>22</td>\n",
       "    </tr>\n",
       "    <tr>\n",
       "      <th>9</th>\n",
       "      <td>IL</td>\n",
       "      <td>21</td>\n",
       "    </tr>\n",
       "  </tbody>\n",
       "</table>\n",
       "</div>"
      ],
      "text/plain": [
       "  country  count\n",
       "0      PL   6033\n",
       "1      GB     71\n",
       "2      DE     38\n",
       "3      FR     33\n",
       "4      SE     30\n",
       "5      US     26\n",
       "6      IT     26\n",
       "7      UA     23\n",
       "8      FI     22\n",
       "9      IL     21"
      ]
     },
     "execution_count": 35,
     "metadata": {},
     "output_type": "execute_result"
    }
   ],
   "source": [
    "# Number of marathoners per country\n",
    "x = (\n",
    "    marathon\n",
    "    .loc[:, \"country\"]\n",
    "    .value_counts()\n",
    "    .rename(\"count\")\n",
    "    .reset_index()\n",
    "    .rename(columns={\"index\":\"country\"})\n",
    ")\n",
    "\n",
    "x.head(10)"
   ]
  },
  {
   "cell_type": "code",
   "execution_count": 36,
   "id": "19b1eb85",
   "metadata": {},
   "outputs": [
    {
     "name": "stdout",
     "output_type": "stream",
     "text": [
      "['GB' 'DE' 'FR' 'SE' 'US']\n"
     ]
    }
   ],
   "source": [
    "# Select most prevalent countries (excluding Poland, i.e. PL)\n",
    "selected_countries = np.array(x.loc[1:5, \"country\"])\n",
    "print(selected_countries)"
   ]
  },
  {
   "cell_type": "code",
   "execution_count": 37,
   "id": "70f83e7c",
   "metadata": {},
   "outputs": [
    {
     "data": {
      "text/plain": [
       "0       False\n",
       "1       False\n",
       "2       False\n",
       "3       False\n",
       "4       False\n",
       "        ...  \n",
       "6506    False\n",
       "6507    False\n",
       "6508    False\n",
       "6509    False\n",
       "6510    False\n",
       "Name: country, Length: 6511, dtype: bool"
      ]
     },
     "execution_count": 37,
     "metadata": {},
     "output_type": "execute_result"
    }
   ],
   "source": [
    "country_in = marathon.country.isin(selected_countries)\n",
    "country_in"
   ]
  },
  {
   "cell_type": "code",
   "execution_count": 38,
   "id": "5fd4ee97",
   "metadata": {},
   "outputs": [
    {
     "data": {
      "text/html": [
       "<div>\n",
       "<style scoped>\n",
       "    .dataframe tbody tr th:only-of-type {\n",
       "        vertical-align: middle;\n",
       "    }\n",
       "\n",
       "    .dataframe tbody tr th {\n",
       "        vertical-align: top;\n",
       "    }\n",
       "\n",
       "    .dataframe thead th {\n",
       "        text-align: right;\n",
       "    }\n",
       "</style>\n",
       "<table border=\"1\" class=\"dataframe\">\n",
       "  <thead>\n",
       "    <tr style=\"text-align: right;\">\n",
       "      <th></th>\n",
       "      <th>sex</th>\n",
       "      <th>country</th>\n",
       "      <th>category</th>\n",
       "      <th>mins</th>\n",
       "      <th>age</th>\n",
       "      <th>country2</th>\n",
       "    </tr>\n",
       "  </thead>\n",
       "  <tbody>\n",
       "    <tr>\n",
       "      <th>0</th>\n",
       "      <td>M</td>\n",
       "      <td>KE</td>\n",
       "      <td>M20</td>\n",
       "      <td>129.32</td>\n",
       "      <td>20</td>\n",
       "      <td>other</td>\n",
       "    </tr>\n",
       "    <tr>\n",
       "      <th>1</th>\n",
       "      <td>M</td>\n",
       "      <td>KE</td>\n",
       "      <td>M20</td>\n",
       "      <td>130.75</td>\n",
       "      <td>20</td>\n",
       "      <td>other</td>\n",
       "    </tr>\n",
       "    <tr>\n",
       "      <th>2</th>\n",
       "      <td>M</td>\n",
       "      <td>KE</td>\n",
       "      <td>M20</td>\n",
       "      <td>130.97</td>\n",
       "      <td>20</td>\n",
       "      <td>other</td>\n",
       "    </tr>\n",
       "    <tr>\n",
       "      <th>3</th>\n",
       "      <td>M</td>\n",
       "      <td>ET</td>\n",
       "      <td>M20</td>\n",
       "      <td>134.17</td>\n",
       "      <td>20</td>\n",
       "      <td>other</td>\n",
       "    </tr>\n",
       "    <tr>\n",
       "      <th>4</th>\n",
       "      <td>M</td>\n",
       "      <td>KE</td>\n",
       "      <td>M30</td>\n",
       "      <td>134.68</td>\n",
       "      <td>30</td>\n",
       "      <td>other</td>\n",
       "    </tr>\n",
       "    <tr>\n",
       "      <th>5</th>\n",
       "      <td>M</td>\n",
       "      <td>KE</td>\n",
       "      <td>M30</td>\n",
       "      <td>135.97</td>\n",
       "      <td>30</td>\n",
       "      <td>other</td>\n",
       "    </tr>\n",
       "    <tr>\n",
       "      <th>6</th>\n",
       "      <td>M</td>\n",
       "      <td>ET</td>\n",
       "      <td>M20</td>\n",
       "      <td>139.88</td>\n",
       "      <td>20</td>\n",
       "      <td>other</td>\n",
       "    </tr>\n",
       "    <tr>\n",
       "      <th>7</th>\n",
       "      <td>M</td>\n",
       "      <td>MA</td>\n",
       "      <td>M30</td>\n",
       "      <td>143.20</td>\n",
       "      <td>30</td>\n",
       "      <td>other</td>\n",
       "    </tr>\n",
       "    <tr>\n",
       "      <th>8</th>\n",
       "      <td>M</td>\n",
       "      <td>PL</td>\n",
       "      <td>M30</td>\n",
       "      <td>145.22</td>\n",
       "      <td>30</td>\n",
       "      <td>other</td>\n",
       "    </tr>\n",
       "    <tr>\n",
       "      <th>9</th>\n",
       "      <td>M</td>\n",
       "      <td>PL</td>\n",
       "      <td>M30</td>\n",
       "      <td>145.92</td>\n",
       "      <td>30</td>\n",
       "      <td>other</td>\n",
       "    </tr>\n",
       "  </tbody>\n",
       "</table>\n",
       "</div>"
      ],
      "text/plain": [
       "  sex country category    mins age country2\n",
       "0   M      KE      M20  129.32  20    other\n",
       "1   M      KE      M20  130.75  20    other\n",
       "2   M      KE      M20  130.97  20    other\n",
       "3   M      ET      M20  134.17  20    other\n",
       "4   M      KE      M30  134.68  30    other\n",
       "5   M      KE      M30  135.97  30    other\n",
       "6   M      ET      M20  139.88  20    other\n",
       "7   M      MA      M30  143.20  30    other\n",
       "8   M      PL      M30  145.22  30    other\n",
       "9   M      PL      M30  145.92  30    other"
      ]
     },
     "execution_count": 38,
     "metadata": {},
     "output_type": "execute_result"
    }
   ],
   "source": [
    "marathon.loc[:, \"country2\"] = \"other\"\n",
    "marathon.loc[country_in, \"country2\"] = marathon.loc[country_in, \"country\"]\n",
    "marathon.head(10)"
   ]
  },
  {
   "cell_type": "code",
   "execution_count": 39,
   "id": "89ba15c2",
   "metadata": {},
   "outputs": [
    {
     "name": "stdout",
     "output_type": "stream",
     "text": [
      "sum: 6511\n"
     ]
    },
    {
     "data": {
      "text/html": [
       "<div>\n",
       "<style scoped>\n",
       "    .dataframe tbody tr th:only-of-type {\n",
       "        vertical-align: middle;\n",
       "    }\n",
       "\n",
       "    .dataframe tbody tr th {\n",
       "        vertical-align: top;\n",
       "    }\n",
       "\n",
       "    .dataframe thead th {\n",
       "        text-align: right;\n",
       "    }\n",
       "</style>\n",
       "<table border=\"1\" class=\"dataframe\">\n",
       "  <thead>\n",
       "    <tr style=\"text-align: right;\">\n",
       "      <th></th>\n",
       "      <th>country2</th>\n",
       "      <th>count</th>\n",
       "      <th>percentage</th>\n",
       "    </tr>\n",
       "  </thead>\n",
       "  <tbody>\n",
       "    <tr>\n",
       "      <th>0</th>\n",
       "      <td>other</td>\n",
       "      <td>6313</td>\n",
       "      <td>0.969590</td>\n",
       "    </tr>\n",
       "    <tr>\n",
       "      <th>1</th>\n",
       "      <td>GB</td>\n",
       "      <td>71</td>\n",
       "      <td>0.010905</td>\n",
       "    </tr>\n",
       "    <tr>\n",
       "      <th>2</th>\n",
       "      <td>DE</td>\n",
       "      <td>38</td>\n",
       "      <td>0.005836</td>\n",
       "    </tr>\n",
       "    <tr>\n",
       "      <th>3</th>\n",
       "      <td>FR</td>\n",
       "      <td>33</td>\n",
       "      <td>0.005068</td>\n",
       "    </tr>\n",
       "    <tr>\n",
       "      <th>4</th>\n",
       "      <td>SE</td>\n",
       "      <td>30</td>\n",
       "      <td>0.004608</td>\n",
       "    </tr>\n",
       "    <tr>\n",
       "      <th>5</th>\n",
       "      <td>US</td>\n",
       "      <td>26</td>\n",
       "      <td>0.003993</td>\n",
       "    </tr>\n",
       "  </tbody>\n",
       "</table>\n",
       "</div>"
      ],
      "text/plain": [
       "  country2  count  percentage\n",
       "0    other   6313    0.969590\n",
       "1       GB     71    0.010905\n",
       "2       DE     38    0.005836\n",
       "3       FR     33    0.005068\n",
       "4       SE     30    0.004608\n",
       "5       US     26    0.003993"
      ]
     },
     "execution_count": 39,
     "metadata": {},
     "output_type": "execute_result"
    }
   ],
   "source": [
    "x = (marathon\n",
    "     .value_counts(\"country2\")\n",
    "     .rename(\"count\")\n",
    "     .reset_index()\n",
    "     )\n",
    "\n",
    "x_sum = x.loc[:, \"count\"].sum()\n",
    "print(f\"sum: {x_sum}\")\n",
    "\n",
    "x.loc[:, \"percentage\"] = x.loc[:, \"count\"] / x_sum\n",
    "\n",
    "x"
   ]
  },
  {
   "cell_type": "code",
   "execution_count": 40,
   "id": "19882fbb",
   "metadata": {},
   "outputs": [
    {
     "data": {
      "image/png": "[encoded data removed]",
      "text/plain": [
       "<Figure size 1080x360 with 2 Axes>"
      ]
     },
     "metadata": {
      "needs_background": "light"
     },
     "output_type": "display_data"
    }
   ],
   "source": [
    "plt.figure(figsize=(15,5))\n",
    "\n",
    "plt.subplot(121)\n",
    "sns.barplot(x=\"country2\", y=\"percentage\", data=x)\n",
    "\n",
    "plt.subplot(122)\n",
    "sns.barplot(x=\"country2\", y=\"percentage\", data=x.iloc[1:, :])\n",
    "\n",
    "plt.show()"
   ]
  },
  {
   "cell_type": "code",
   "execution_count": 41,
   "id": "b5bd2fa8",
   "metadata": {},
   "outputs": [
    {
     "data": {
      "text/plain": [
       "country2\n",
       "Other    0.969590\n",
       "GB       0.010905\n",
       "DE       0.005836\n",
       "FR       0.005068\n",
       "SE       0.004608\n",
       "US       0.003993\n",
       "Name: count, dtype: float64"
      ]
     },
     "execution_count": 41,
     "metadata": {},
     "output_type": "execute_result"
    }
   ],
   "source": [
    "# Same plot as above but with a different code\n",
    "x = (\n",
    "    marathon\n",
    "    .loc[:, \"country\"]\n",
    "    .value_counts()\n",
    "    .rename(\"count\")\n",
    "    .reset_index()\n",
    "    .rename(columns={\"index\":\"country\"})\n",
    ")\n",
    "\n",
    "x.loc[:, \"country2\"] = \"Other\"\n",
    "x.loc[1:5, \"country2\"] = x.loc[1:5, \"country\"]\n",
    "x.drop([\"country\"], axis=1, inplace=True)\n",
    "\n",
    "x = x.groupby([\"country2\"])[\"count\"].sum()\n",
    "x = x.sort_values(ascending=False)\n",
    "x = x / x.sum()\n",
    "\n",
    "x"
   ]
  },
  {
   "cell_type": "code",
   "execution_count": 42,
   "id": "13a90410",
   "metadata": {},
   "outputs": [
    {
     "data": {
      "image/png": "[encoded data removed]",
      "text/plain": [
       "<Figure size 1080x360 with 2 Axes>"
      ]
     },
     "metadata": {
      "needs_background": "light"
     },
     "output_type": "display_data"
    }
   ],
   "source": [
    "ind = np.arange(len(x))\n",
    "\n",
    "plt.figure(figsize=(15,5))\n",
    "\n",
    "plt.subplot(121)\n",
    "plt.bar(ind, height=x, color=\"lightgray\", edgecolor=\"black\", alpha=0.8)\n",
    "plt.xticks(ind, x.index)\n",
    "\n",
    "plt.subplot(122)\n",
    "plt.bar(ind[1:], height=x[1:], color=\"lightgray\", edgecolor=\"black\", alpha=0.8)\n",
    "plt.xticks(ind[1:], x[1:].index)\n",
    "\n",
    "plt.show()"
   ]
  },
  {
   "attachments": {},
   "cell_type": "markdown",
   "id": "f79fcd04",
   "metadata": {},
   "source": [
    "# Bar plot 3"
   ]
  },
  {
   "cell_type": "code",
   "execution_count": 43,
   "id": "ac22759a",
   "metadata": {},
   "outputs": [
    {
     "data": {
      "text/html": [
       "<div>\n",
       "<style scoped>\n",
       "    .dataframe tbody tr th:only-of-type {\n",
       "        vertical-align: middle;\n",
       "    }\n",
       "\n",
       "    .dataframe tbody tr th {\n",
       "        vertical-align: top;\n",
       "    }\n",
       "\n",
       "    .dataframe thead th {\n",
       "        text-align: right;\n",
       "    }\n",
       "</style>\n",
       "<table border=\"1\" class=\"dataframe\">\n",
       "  <thead>\n",
       "    <tr style=\"text-align: right;\">\n",
       "      <th></th>\n",
       "      <th>sex</th>\n",
       "      <th>country</th>\n",
       "      <th>category</th>\n",
       "      <th>mins</th>\n",
       "      <th>age</th>\n",
       "      <th>country2</th>\n",
       "    </tr>\n",
       "  </thead>\n",
       "  <tbody>\n",
       "    <tr>\n",
       "      <th>0</th>\n",
       "      <td>M</td>\n",
       "      <td>KE</td>\n",
       "      <td>M20</td>\n",
       "      <td>129.32</td>\n",
       "      <td>20</td>\n",
       "      <td>other</td>\n",
       "    </tr>\n",
       "    <tr>\n",
       "      <th>1</th>\n",
       "      <td>M</td>\n",
       "      <td>KE</td>\n",
       "      <td>M20</td>\n",
       "      <td>130.75</td>\n",
       "      <td>20</td>\n",
       "      <td>other</td>\n",
       "    </tr>\n",
       "    <tr>\n",
       "      <th>2</th>\n",
       "      <td>M</td>\n",
       "      <td>KE</td>\n",
       "      <td>M20</td>\n",
       "      <td>130.97</td>\n",
       "      <td>20</td>\n",
       "      <td>other</td>\n",
       "    </tr>\n",
       "    <tr>\n",
       "      <th>3</th>\n",
       "      <td>M</td>\n",
       "      <td>ET</td>\n",
       "      <td>M20</td>\n",
       "      <td>134.17</td>\n",
       "      <td>20</td>\n",
       "      <td>other</td>\n",
       "    </tr>\n",
       "    <tr>\n",
       "      <th>4</th>\n",
       "      <td>M</td>\n",
       "      <td>KE</td>\n",
       "      <td>M30</td>\n",
       "      <td>134.68</td>\n",
       "      <td>30</td>\n",
       "      <td>other</td>\n",
       "    </tr>\n",
       "    <tr>\n",
       "      <th>5</th>\n",
       "      <td>M</td>\n",
       "      <td>KE</td>\n",
       "      <td>M30</td>\n",
       "      <td>135.97</td>\n",
       "      <td>30</td>\n",
       "      <td>other</td>\n",
       "    </tr>\n",
       "    <tr>\n",
       "      <th>6</th>\n",
       "      <td>M</td>\n",
       "      <td>ET</td>\n",
       "      <td>M20</td>\n",
       "      <td>139.88</td>\n",
       "      <td>20</td>\n",
       "      <td>other</td>\n",
       "    </tr>\n",
       "    <tr>\n",
       "      <th>7</th>\n",
       "      <td>M</td>\n",
       "      <td>MA</td>\n",
       "      <td>M30</td>\n",
       "      <td>143.20</td>\n",
       "      <td>30</td>\n",
       "      <td>other</td>\n",
       "    </tr>\n",
       "    <tr>\n",
       "      <th>8</th>\n",
       "      <td>M</td>\n",
       "      <td>PL</td>\n",
       "      <td>M30</td>\n",
       "      <td>145.22</td>\n",
       "      <td>30</td>\n",
       "      <td>other</td>\n",
       "    </tr>\n",
       "    <tr>\n",
       "      <th>9</th>\n",
       "      <td>M</td>\n",
       "      <td>PL</td>\n",
       "      <td>M30</td>\n",
       "      <td>145.92</td>\n",
       "      <td>30</td>\n",
       "      <td>other</td>\n",
       "    </tr>\n",
       "  </tbody>\n",
       "</table>\n",
       "</div>"
      ],
      "text/plain": [
       "  sex country category    mins age country2\n",
       "0   M      KE      M20  129.32  20    other\n",
       "1   M      KE      M20  130.75  20    other\n",
       "2   M      KE      M20  130.97  20    other\n",
       "3   M      ET      M20  134.17  20    other\n",
       "4   M      KE      M30  134.68  30    other\n",
       "5   M      KE      M30  135.97  30    other\n",
       "6   M      ET      M20  139.88  20    other\n",
       "7   M      MA      M30  143.20  30    other\n",
       "8   M      PL      M30  145.22  30    other\n",
       "9   M      PL      M30  145.92  30    other"
      ]
     },
     "execution_count": 43,
     "metadata": {},
     "output_type": "execute_result"
    }
   ],
   "source": [
    "marathon.head(10)"
   ]
  },
  {
   "cell_type": "code",
   "execution_count": 44,
   "id": "1e8b8cd0",
   "metadata": {},
   "outputs": [
    {
     "data": {
      "text/html": [
       "<div>\n",
       "<style scoped>\n",
       "    .dataframe tbody tr th:only-of-type {\n",
       "        vertical-align: middle;\n",
       "    }\n",
       "\n",
       "    .dataframe tbody tr th {\n",
       "        vertical-align: top;\n",
       "    }\n",
       "\n",
       "    .dataframe thead th {\n",
       "        text-align: right;\n",
       "    }\n",
       "</style>\n",
       "<table border=\"1\" class=\"dataframe\">\n",
       "  <thead>\n",
       "    <tr style=\"text-align: right;\">\n",
       "      <th></th>\n",
       "      <th>sex</th>\n",
       "      <th>age</th>\n",
       "      <th>count</th>\n",
       "    </tr>\n",
       "  </thead>\n",
       "  <tbody>\n",
       "    <tr>\n",
       "      <th>0</th>\n",
       "      <td>F</td>\n",
       "      <td>20</td>\n",
       "      <td>240</td>\n",
       "    </tr>\n",
       "    <tr>\n",
       "      <th>1</th>\n",
       "      <td>F</td>\n",
       "      <td>30</td>\n",
       "      <td>449</td>\n",
       "    </tr>\n",
       "    <tr>\n",
       "      <th>2</th>\n",
       "      <td>F</td>\n",
       "      <td>40</td>\n",
       "      <td>262</td>\n",
       "    </tr>\n",
       "    <tr>\n",
       "      <th>3</th>\n",
       "      <td>F</td>\n",
       "      <td>50</td>\n",
       "      <td>43</td>\n",
       "    </tr>\n",
       "    <tr>\n",
       "      <th>4</th>\n",
       "      <td>F</td>\n",
       "      <td>60+</td>\n",
       "      <td>19</td>\n",
       "    </tr>\n",
       "    <tr>\n",
       "      <th>5</th>\n",
       "      <td>M</td>\n",
       "      <td>20</td>\n",
       "      <td>879</td>\n",
       "    </tr>\n",
       "    <tr>\n",
       "      <th>6</th>\n",
       "      <td>M</td>\n",
       "      <td>30</td>\n",
       "      <td>2200</td>\n",
       "    </tr>\n",
       "    <tr>\n",
       "      <th>7</th>\n",
       "      <td>M</td>\n",
       "      <td>40</td>\n",
       "      <td>1708</td>\n",
       "    </tr>\n",
       "    <tr>\n",
       "      <th>8</th>\n",
       "      <td>M</td>\n",
       "      <td>50</td>\n",
       "      <td>541</td>\n",
       "    </tr>\n",
       "    <tr>\n",
       "      <th>9</th>\n",
       "      <td>M</td>\n",
       "      <td>60+</td>\n",
       "      <td>170</td>\n",
       "    </tr>\n",
       "  </tbody>\n",
       "</table>\n",
       "</div>"
      ],
      "text/plain": [
       "  sex  age  count\n",
       "0   F   20    240\n",
       "1   F   30    449\n",
       "2   F   40    262\n",
       "3   F   50     43\n",
       "4   F  60+     19\n",
       "5   M   20    879\n",
       "6   M   30   2200\n",
       "7   M   40   1708\n",
       "8   M   50    541\n",
       "9   M  60+    170"
      ]
     },
     "execution_count": 44,
     "metadata": {},
     "output_type": "execute_result"
    }
   ],
   "source": [
    "v = (\n",
    "    marathon\n",
    "    .loc[:, [\"sex\", \"age\"]]\n",
    "    .value_counts(sort=False)\n",
    "    .rename(\"count\")\n",
    "    .reset_index()\n",
    ")\n",
    "\n",
    "v"
   ]
  },
  {
   "cell_type": "code",
   "execution_count": 45,
   "id": "58cdd87c",
   "metadata": {},
   "outputs": [
    {
     "data": {
      "image/png": "[encoded data removed]",
      "text/plain": [
       "<Figure size 720x360 with 1 Axes>"
      ]
     },
     "metadata": {
      "needs_background": "light"
     },
     "output_type": "display_data"
    }
   ],
   "source": [
    "plt.figure(figsize=(10,5))\n",
    "sns.barplot(x=\"age\", hue=\"sex\", y=\"count\", data=v)\n",
    "plt.show()"
   ]
  },
  {
   "attachments": {},
   "cell_type": "markdown",
   "id": "4da14c49",
   "metadata": {},
   "source": [
    "# Pareto Charts"
   ]
  },
  {
   "cell_type": "code",
   "execution_count": 46,
   "id": "435046cc",
   "metadata": {},
   "outputs": [
    {
     "data": {
      "text/plain": [
       "array(['Unauthorised drug', 'Wrong IV rate', 'Wrong patient',\n",
       "       'Dose missed', 'Underdose', 'Wrong calculation', 'Wrong route',\n",
       "       'Wrong drug', 'Wrong time', 'Technique error', 'Duplicated drugs',\n",
       "       'Overdose'], dtype='<U17')"
      ]
     },
     "execution_count": 46,
     "metadata": {},
     "output_type": "execute_result"
    }
   ],
   "source": [
    "cat_med = np.array([\n",
    "    \"Unauthorised drug\", \"Wrong IV rate\", \"Wrong patient\", \"Dose missed\",\n",
    "    \"Underdose\", \"Wrong calculation\",\"Wrong route\", \"Wrong drug\",\n",
    "    \"Wrong time\", \"Technique error\", \"Duplicated drugs\", \"Overdose\"\n",
    "])\n",
    "\n",
    "cat_med"
   ]
  },
  {
   "cell_type": "code",
   "execution_count": 47,
   "id": "f461b0f0",
   "metadata": {},
   "outputs": [
    {
     "name": "stdout",
     "output_type": "stream",
     "text": [
      "counts_med: [ 1  4 53 92  7 16 27 76 83  3  9 59]\n",
      "sum: 430\n"
     ]
    }
   ],
   "source": [
    "counts_med = np.array([1, 4, 53, 92, 7, 16, 27, 76, 83, 3, 9, 59])\n",
    "print(f\"counts_med: {counts_med}\")\n",
    "print(f\"sum: {np.sum(counts_med)}\")"
   ]
  },
  {
   "cell_type": "code",
   "execution_count": 48,
   "id": "d09d319f",
   "metadata": {},
   "outputs": [
    {
     "data": {
      "text/plain": [
       "Dose missed          92\n",
       "Wrong time           83\n",
       "Wrong drug           76\n",
       "Overdose             59\n",
       "Wrong patient        53\n",
       "Wrong route          27\n",
       "Wrong calculation    16\n",
       "Duplicated drugs      9\n",
       "Underdose             7\n",
       "Wrong IV rate         4\n",
       "Technique error       3\n",
       "Unauthorised drug     1\n",
       "dtype: int32"
      ]
     },
     "execution_count": 48,
     "metadata": {},
     "output_type": "execute_result"
    }
   ],
   "source": [
    "med = pd.Series(counts_med, index=cat_med).sort_values(ascending =False)\n",
    "med"
   ]
  },
  {
   "cell_type": "code",
   "execution_count": 49,
   "id": "33d4a732",
   "metadata": {},
   "outputs": [
    {
     "data": {
      "text/plain": [
       "Dose missed          21.395349\n",
       "Wrong time           19.302326\n",
       "Wrong drug           17.674419\n",
       "Overdose             13.720930\n",
       "Wrong patient        12.325581\n",
       "Wrong route           6.279070\n",
       "Wrong calculation     3.720930\n",
       "Duplicated drugs      2.093023\n",
       "Underdose             1.627907\n",
       "Wrong IV rate         0.930233\n",
       "Technique error       0.697674\n",
       "Unauthorised drug     0.232558\n",
       "dtype: float64"
      ]
     },
     "execution_count": 49,
     "metadata": {},
     "output_type": "execute_result"
    }
   ],
   "source": [
    "x = np.arange(len(med))\n",
    "p = 100.0 * (med/np.sum(med)) # percentage\n",
    "p"
   ]
  },
  {
   "cell_type": "code",
   "execution_count": 50,
   "id": "356ba8c3",
   "metadata": {},
   "outputs": [
    {
     "data": {
      "text/plain": [
       "Dose missed           21.395349\n",
       "Wrong time            40.697674\n",
       "Wrong drug            58.372093\n",
       "Overdose              72.093023\n",
       "Wrong patient         84.418605\n",
       "Wrong route           90.697674\n",
       "Wrong calculation     94.418605\n",
       "Duplicated drugs      96.511628\n",
       "Underdose             98.139535\n",
       "Wrong IV rate         99.069767\n",
       "Technique error       99.767442\n",
       "Unauthorised drug    100.000000\n",
       "dtype: float64"
      ]
     },
     "execution_count": 50,
     "metadata": {},
     "output_type": "execute_result"
    }
   ],
   "source": [
    "np.cumsum(p)"
   ]
  },
  {
   "cell_type": "code",
   "execution_count": 51,
   "id": "ea097963",
   "metadata": {},
   "outputs": [
    {
     "data": {
      "image/png": "[encoded data removed]",
      "text/plain": [
       "<Figure size 720x360 with 2 Axes>"
      ]
     },
     "metadata": {
      "needs_background": "light"
     },
     "output_type": "display_data"
    }
   ],
   "source": [
    "fig, ax1 = plt.subplots(figsize=(10,5))\n",
    "ax1.set_xticks(x-0.3, med.index, rotation=60, fontsize=13)\n",
    "ax1.set_ylabel(\"%\")\n",
    "ax1.bar(x, height=p, color=\"lightblue\", edgecolor=\"black\")\n",
    "ax1.grid(visible=False)\n",
    "ax2 = ax1.twinx()\n",
    "ax2.plot(x, np.cumsum(p), \"r-o\")\n",
    "ax2.grid(visible=False)\n",
    "ax2.set_ylabel(\"cumulative %\")\n",
    "# fig.tight_layout()\n",
    "plt.show()"
   ]
  },
  {
   "attachments": {},
   "cell_type": "markdown",
   "id": "fd819427",
   "metadata": {},
   "source": [
    "# Heat Maps"
   ]
  },
  {
   "cell_type": "code",
   "execution_count": 52,
   "id": "d3f2fe27",
   "metadata": {},
   "outputs": [
    {
     "data": {
      "text/html": [
       "<div>\n",
       "<style scoped>\n",
       "    .dataframe tbody tr th:only-of-type {\n",
       "        vertical-align: middle;\n",
       "    }\n",
       "\n",
       "    .dataframe tbody tr th {\n",
       "        vertical-align: top;\n",
       "    }\n",
       "\n",
       "    .dataframe thead th {\n",
       "        text-align: right;\n",
       "    }\n",
       "</style>\n",
       "<table border=\"1\" class=\"dataframe\">\n",
       "  <thead>\n",
       "    <tr style=\"text-align: right;\">\n",
       "      <th>age</th>\n",
       "      <th>20</th>\n",
       "      <th>30</th>\n",
       "      <th>40</th>\n",
       "      <th>50</th>\n",
       "      <th>60+</th>\n",
       "    </tr>\n",
       "    <tr>\n",
       "      <th>sex</th>\n",
       "      <th></th>\n",
       "      <th></th>\n",
       "      <th></th>\n",
       "      <th></th>\n",
       "      <th></th>\n",
       "    </tr>\n",
       "  </thead>\n",
       "  <tbody>\n",
       "    <tr>\n",
       "      <th>F</th>\n",
       "      <td>240</td>\n",
       "      <td>449</td>\n",
       "      <td>262</td>\n",
       "      <td>43</td>\n",
       "      <td>19</td>\n",
       "    </tr>\n",
       "    <tr>\n",
       "      <th>M</th>\n",
       "      <td>879</td>\n",
       "      <td>2200</td>\n",
       "      <td>1708</td>\n",
       "      <td>541</td>\n",
       "      <td>170</td>\n",
       "    </tr>\n",
       "  </tbody>\n",
       "</table>\n",
       "</div>"
      ],
      "text/plain": [
       "age   20    30    40   50  60+\n",
       "sex                           \n",
       "F    240   449   262   43   19\n",
       "M    879  2200  1708  541  170"
      ]
     },
     "execution_count": 52,
     "metadata": {},
     "output_type": "execute_result"
    }
   ],
   "source": [
    "V = marathon.loc[:, [\"sex\", \"age\"]].value_counts().unstack(fill_value=0)\n",
    "V"
   ]
  },
  {
   "cell_type": "code",
   "execution_count": 53,
   "id": "21df3bf1",
   "metadata": {},
   "outputs": [
    {
     "data": {
      "image/png": "[encoded data removed]",
      "text/plain": [
       "<Figure size 720x360 with 2 Axes>"
      ]
     },
     "metadata": {
      "needs_background": "light"
     },
     "output_type": "display_data"
    }
   ],
   "source": [
    "plt.figure(figsize=(10,5))\n",
    "sns.heatmap(V, annot=True, annot_kws={\"fontsize\":15}, fmt=\"d\", cmap=matplotlib.colormaps[\"copper\"])\n",
    "plt.show()"
   ]
  },
  {
   "attachments": {},
   "cell_type": "markdown",
   "id": "a07372a9",
   "metadata": {},
   "source": [
    "# Logic vectors"
   ]
  },
  {
   "cell_type": "code",
   "execution_count": 54,
   "id": "775f2fa9",
   "metadata": {},
   "outputs": [
    {
     "name": "stdout",
     "output_type": "stream",
     "text": [
      "Shape: (6511,)\n",
      "\n",
      "0    False\n",
      "1    False\n",
      "2    False\n",
      "3    False\n",
      "4    False\n",
      "5    False\n",
      "6    False\n",
      "7    False\n",
      "8     True\n",
      "9     True\n",
      "Name: country, dtype: bool\n"
     ]
    }
   ],
   "source": [
    "c1 = marathon.country == \"PL\"\n",
    "print(f\"Shape: {c1.shape}\\n\")\n",
    "print(c1.head(10))"
   ]
  },
  {
   "cell_type": "code",
   "execution_count": 55,
   "id": "b0632d8a",
   "metadata": {},
   "outputs": [
    {
     "name": "stdout",
     "output_type": "stream",
     "text": [
      "sum = 6033\n",
      "proportion = 6511\n",
      "proportion = 0.927\n",
      "all = False\n",
      "any = True\n",
      "min = False\n",
      "max = True\n"
     ]
    }
   ],
   "source": [
    "print(f\"sum = {np.sum(c1)}\")\n",
    "print(f\"proportion = {len(c1)}\")\n",
    "print(f\"proportion = {np.sum(c1) / len(c1):.3f}\")\n",
    "print(f\"all = {np.all(c1)}\")\n",
    "print(f\"any = {np.any(c1)}\")\n",
    "print(f\"min = {np.min(c1)}\")\n",
    "print(f\"max = {np.max(c1)}\")"
   ]
  },
  {
   "attachments": {},
   "cell_type": "markdown",
   "id": "ba36ac6d",
   "metadata": {},
   "source": [
    "# Pearson’s Chi-Squared Test\n",
    "\n",
    "\n",
    "$\\hat T = n \\sum \\limits _{i=1}^{m} \\frac{(\\hat p_i - p_i)^2} {p_i}$\n",
    "\n",
    "Where:\n",
    "- $\\hat p_1, \\hat p_2, ..., \\hat p_m$ = observed proportions\n",
    "- $p_1, p_2, ..., p_m$ = theoretical proportions\n",
    "- $n$ = sample size"
   ]
  },
  {
   "cell_type": "code",
   "execution_count": 56,
   "id": "d57b00a1",
   "metadata": {},
   "outputs": [
    {
     "data": {
      "text/plain": [
       "0.2212389380530986"
      ]
     },
     "execution_count": 56,
     "metadata": {},
     "output_type": "execute_result"
    }
   ],
   "source": [
    "n = 1017 # N observations\n",
    "c = 516 # N observations in group 1\n",
    "c1 = c / n # observed propotion (group 1)\n",
    "c2 = (n-c) / n # observed propotion (group 2)\n",
    "p_observed = np.array([c1, c2])\n",
    "p_expected = np.array([0.5, 0.5]) # theoretical proportions (i.e., 0.5)\n",
    "\n",
    "T = n * np.sum( (p_observed-p_expected)**2 / p_expected )\n",
    "T"
   ]
  },
  {
   "cell_type": "code",
   "execution_count": 57,
   "id": "e54fbdb7",
   "metadata": {},
   "outputs": [
    {
     "data": {
      "text/plain": [
       "10.827566170662733"
      ]
     },
     "execution_count": 57,
     "metadata": {},
     "output_type": "execute_result"
    }
   ],
   "source": [
    "alpha = 0.001 # significance level\n",
    "dof = len(p_observed)-1 # m-1 degrees of freedom\n",
    "K = scipy.stats.chi2.ppf(1-alpha, dof)\n",
    "K"
   ]
  },
  {
   "cell_type": "code",
   "execution_count": 58,
   "id": "07dae130",
   "metadata": {},
   "outputs": [
    {
     "data": {
      "text/plain": [
       "False"
      ]
     },
     "execution_count": 58,
     "metadata": {},
     "output_type": "execute_result"
    }
   ],
   "source": [
    "# we should reject the null hypothesis (i.e., the \n",
    "# differences between the observed proportions and \n",
    "# the theoretical proportions are significantly) only if:\n",
    "# T >= K\n",
    "T >= K"
   ]
  }
 ],
 "metadata": {
  "kernelspec": {
   "display_name": "Python 3 (ipykernel)",
   "language": "python",
   "name": "python3"
  },
  "language_info": {
   "codemirror_mode": {
    "name": "ipython",
    "version": 3
   },
   "file_extension": ".py",
   "mimetype": "text/x-python",
   "name": "python",
   "nbconvert_exporter": "python",
   "pygments_lexer": "ipython3",
   "version": "3.9.5"
  }
 },
 "nbformat": 4,
 "nbformat_minor": 5
}
