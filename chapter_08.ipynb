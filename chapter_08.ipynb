{
 "cells": [
  {
   "attachments": {},
   "cell_type": "markdown",
   "id": "e85e33a8",
   "metadata": {},
   "source": [
    "# Libraries"
   ]
  },
  {
   "cell_type": "code",
   "execution_count": 1,
   "id": "2643f68d-826b-4a18-afee-27762fa26d48",
   "metadata": {},
   "outputs": [
    {
     "name": "stdout",
     "output_type": "stream",
     "text": [
      "sys: 3.9.5 (tags/v3.9.5:0a7dcbd, May  3 2021, 17:27:52) [MSC v.1928 64 bit (AMD64)]\n",
      "numpy: 1.24.2\n",
      "scipy: 1.10.1\n",
      "pandas: 1.5.3\n",
      "matplotlib: 3.7.1\n",
      "seaborns 0.12.2\n"
     ]
    }
   ],
   "source": [
    "import numpy as np\n",
    "import scipy.stats\n",
    "import pandas as pd\n",
    "import matplotlib\n",
    "import matplotlib.pyplot as plt\n",
    "import seaborn as sns\n",
    "\n",
    "np.random.seed(123)\n",
    "\n",
    "# plot style\n",
    "plt.style.use(\"seaborn-v0_8\")\n",
    "# print(plt.style.available)\n",
    "\n",
    "# the \"R4\" palette\n",
    "_colours = [\"#000000f0\", \"#DF536Bf0\", \"#61D04Ff0\", \"#2297E6f0\",\n",
    "            \"#28E2E5f0\", \"#CD0BBCf0\", \"#F5C710f0\", \"#999999f0\"]\n",
    "\n",
    "_linestyles = [\"solid\", \"dashed\", \"dashdot\", \"dotted\"]\n",
    "\n",
    "# A different plotting style for each plotted line\n",
    "plt.rcParams[\"axes.prop_cycle\"] = plt.cycler(color=_colours, linestyle=_linestyles*2)\n",
    "plt.rcParams[\"patch.facecolor\"] = _colours[0]\n",
    "\n",
    "# Python version\n",
    "import sys\n",
    "print(f\"sys: {sys.version}\")\n",
    "print(f\"numpy: {np.__version__}\")\n",
    "print(f\"scipy: {scipy.__version__}\")\n",
    "print(f\"pandas: {pd.__version__}\")\n",
    "print(f\"matplotlib: {matplotlib.__version__}\")\n",
    "print(f\"seaborns {sns.__version__}\")"
   ]
  },
  {
   "attachments": {},
   "cell_type": "markdown",
   "id": "a1e75f2f",
   "metadata": {},
   "source": [
    "# Load data"
   ]
  },
  {
   "cell_type": "code",
   "execution_count": 2,
   "id": "5aa8120e",
   "metadata": {},
   "outputs": [],
   "source": [
    "body = pd.read_csv(\"data/nhanes_adult_female_bmx_2020.csv\", comment=\"#\")\n",
    "body = np.array(body)"
   ]
  },
  {
   "attachments": {},
   "cell_type": "markdown",
   "id": "eee0cc7c",
   "metadata": {},
   "source": [
    "# Vectorized functions"
   ]
  },
  {
   "cell_type": "code",
   "execution_count": 3,
   "id": "703fe48f",
   "metadata": {},
   "outputs": [
    {
     "name": "stdout",
     "output_type": "stream",
     "text": [
      "[[0.2 0.6 0.4 0.4]\n",
      " [0.  0.2 0.4 0.7]\n",
      " [0.8 0.8 0.2 0.1]]\n"
     ]
    }
   ],
   "source": [
    "A = np.array([\n",
    "    [0.2, 0.6, 0.4, 0.4],\n",
    "    [0.0, 0.2, 0.4, 0.7],\n",
    "    [0.8, 0.8, 0.2, 0.1]\n",
    "])\n",
    "\n",
    "print(A)"
   ]
  },
  {
   "cell_type": "code",
   "execution_count": 4,
   "id": "fc9d7aee",
   "metadata": {},
   "outputs": [
    {
     "name": "stdout",
     "output_type": "stream",
     "text": [
      "[[0.04 0.36 0.16 0.16]\n",
      " [0.   0.04 0.16 0.49]\n",
      " [0.64 0.64 0.04 0.01]]\n"
     ]
    }
   ],
   "source": [
    "print(np.square(A))"
   ]
  },
  {
   "cell_type": "code",
   "execution_count": 5,
   "id": "73e5da20",
   "metadata": {},
   "outputs": [
    {
     "name": "stdout",
     "output_type": "stream",
     "text": [
      "0.39999999999999997\n"
     ]
    }
   ],
   "source": [
    "# mean of all data\n",
    "print(np.mean(A))"
   ]
  },
  {
   "cell_type": "code",
   "execution_count": 6,
   "id": "9dba5542",
   "metadata": {},
   "outputs": [
    {
     "data": {
      "text/plain": [
       "array([0.33333333, 0.53333333, 0.33333333, 0.4       ])"
      ]
     },
     "execution_count": 6,
     "metadata": {},
     "output_type": "execute_result"
    }
   ],
   "source": [
    "# mean for each column\n",
    "np.mean(A, axis=0)"
   ]
  },
  {
   "cell_type": "code",
   "execution_count": 7,
   "id": "2ef93577",
   "metadata": {},
   "outputs": [
    {
     "data": {
      "text/plain": [
       "array([0.4  , 0.325, 0.475])"
      ]
     },
     "execution_count": 7,
     "metadata": {},
     "output_type": "execute_result"
    }
   ],
   "source": [
    "# mean for each row\n",
    "np.mean(A, axis=1)"
   ]
  },
  {
   "attachments": {},
   "cell_type": "markdown",
   "id": "70178000",
   "metadata": {},
   "source": [
    "# Indexing Matrices"
   ]
  },
  {
   "cell_type": "code",
   "execution_count": 8,
   "id": "55adb557",
   "metadata": {},
   "outputs": [
    {
     "name": "stdout",
     "output_type": "stream",
     "text": [
      "[[  1   2   3   4 500]\n",
      " [ 10  20  30  40  50]\n",
      " [100 200 300 400   5]]\n"
     ]
    }
   ],
   "source": [
    "A = np.array([\n",
    "    [1, 2, 3, 4, 500],\n",
    "    [10, 20, 30, 40, 50],\n",
    "    [100, 200, 300, 400, 5]\n",
    "])\n",
    "\n",
    "print(A)"
   ]
  },
  {
   "cell_type": "code",
   "execution_count": 9,
   "id": "37140ed2",
   "metadata": {},
   "outputs": [
    {
     "data": {
      "text/plain": [
       "array([[  4, 500],\n",
       "       [400,   5]])"
      ]
     },
     "execution_count": 9,
     "metadata": {},
     "output_type": "execute_result"
    }
   ],
   "source": [
    "# Indexing based on two slices (results = a matrix)\n",
    "A[::2, 3:]"
   ]
  },
  {
   "cell_type": "code",
   "execution_count": 10,
   "id": "94de9560",
   "metadata": {},
   "outputs": [
    {
     "data": {
      "text/plain": [
       "array([[500,   4,   3,   2,   1],\n",
       "       [ 50,  40,  30,  20,  10],\n",
       "       [  5, 400, 300, 200, 100]])"
      ]
     },
     "execution_count": 10,
     "metadata": {},
     "output_type": "execute_result"
    }
   ],
   "source": [
    "# Reversed columns (results = a matrix)\n",
    "A[:, ::-1]"
   ]
  },
  {
   "cell_type": "code",
   "execution_count": 11,
   "id": "baa4cba1",
   "metadata": {},
   "outputs": [
    {
     "data": {
      "text/plain": [
       "array([[100, 200, 300, 400,   5],\n",
       "       [ 10,  20,  30,  40,  50],\n",
       "       [  1,   2,   3,   4, 500]])"
      ]
     },
     "execution_count": 11,
     "metadata": {},
     "output_type": "execute_result"
    }
   ],
   "source": [
    "# Reversed rows (results = a matrix)\n",
    "A[::-1, :]"
   ]
  },
  {
   "cell_type": "code",
   "execution_count": 12,
   "id": "035ab5f1",
   "metadata": {},
   "outputs": [
    {
     "data": {
      "text/plain": [
       "array([  4,  40, 400])"
      ]
     },
     "execution_count": 12,
     "metadata": {},
     "output_type": "execute_result"
    }
   ],
   "source": [
    "# Indexing based on a scalar (results = a vector)\n",
    "A[:, 3]"
   ]
  },
  {
   "cell_type": "code",
   "execution_count": 13,
   "id": "c21fbd06",
   "metadata": {},
   "outputs": [
    {
     "data": {
      "text/plain": [
       "4"
      ]
     },
     "execution_count": 13,
     "metadata": {},
     "output_type": "execute_result"
    }
   ],
   "source": [
    "# Indexing based on a scalar (results = a scalar)\n",
    "A[0, 3]"
   ]
  },
  {
   "cell_type": "code",
   "execution_count": 14,
   "id": "d393018e",
   "metadata": {},
   "outputs": [
    {
     "data": {
      "text/plain": [
       "array([[500,   4,   3,   2,   1],\n",
       "       [  5, 400, 300, 200, 100],\n",
       "       [500,   4,   3,   2,   1]])"
      ]
     },
     "execution_count": 14,
     "metadata": {},
     "output_type": "execute_result"
    }
   ],
   "source": [
    "# Indexing based on mixed integer and slice (results = a matrix)\n",
    "A[[0, -1, 0], ::-1]"
   ]
  },
  {
   "cell_type": "code",
   "execution_count": 15,
   "id": "f22ba648",
   "metadata": {},
   "outputs": [
    {
     "data": {
      "text/plain": [
       "array([[ 20,  30],\n",
       "       [200, 300]])"
      ]
     },
     "execution_count": 15,
     "metadata": {},
     "output_type": "execute_result"
    }
   ],
   "source": [
    "# Indexing based on mixed boolen and slice (results = a matrix)\n",
    "A[ A[:, 0] > 5, 1:3]"
   ]
  },
  {
   "cell_type": "code",
   "execution_count": 16,
   "id": "39279f85",
   "metadata": {},
   "outputs": [
    {
     "data": {
      "text/plain": [
       "array([[  1,   2,   3,   4, 500],\n",
       "       [ 10,  20,  30,  40,  50],\n",
       "       [100, 200, 300, 400,   5]])"
      ]
     },
     "execution_count": 16,
     "metadata": {},
     "output_type": "execute_result"
    }
   ],
   "source": [
    "# Indexing based on mixed boolen and slice (results = a matrix)\n",
    "A[ np.mean(A, axis=1) > 10, :]"
   ]
  },
  {
   "cell_type": "code",
   "execution_count": 17,
   "id": "026bf4f1",
   "metadata": {},
   "outputs": [
    {
     "data": {
      "text/plain": [
       "array([[100, 200, 300, 400,   5],\n",
       "       [ 10,  20,  30,  40,  50],\n",
       "       [  1,   2,   3,   4, 500]])"
      ]
     },
     "execution_count": 17,
     "metadata": {},
     "output_type": "execute_result"
    }
   ],
   "source": [
    "# Indexing based on mixed boolen and slice (results = a matrix)\n",
    "A[ np.argsort(A[:, -1]), :] # order the matrix with respect to the values in the last column"
   ]
  },
  {
   "cell_type": "code",
   "execution_count": 18,
   "id": "32285632",
   "metadata": {},
   "outputs": [
    {
     "name": "stdout",
     "output_type": "stream",
     "text": [
      "mean       = 160.13679222932953\n",
      "SD         = 7.062021850008261\n",
      "mean - 2SD = 146.012748529313\n",
      "mean + 2SD = 174.26083592934606\n",
      "body shape:   (4221, 7)\n",
      "body_2 shape: (4027, 7)\n"
     ]
    },
    {
     "data": {
      "image/png": "[encoded data removed]",
      "text/plain": [
       "<Figure size 720x360 with 1 Axes>"
      ]
     },
     "metadata": {
      "needs_background": "light"
     },
     "output_type": "display_data"
    }
   ],
   "source": [
    "# Select all the participants whose heights (second column) are within their mean ± 2 standard deviations.\n",
    "lim1 = body[:,1] > (np.mean(body[:,1]) - 2*np.std(body[:,1]))\n",
    "lim2 = body[:,1] < (np.mean(body[:,1]) + 2*np.std(body[:,1]))\n",
    "body_2 = body[ lim1 & lim2, : ]\n",
    "\n",
    "print(f\"mean       = { np.mean(body[:,1])}\")\n",
    "print(f\"SD         = { np.std(body[:,1]) }\")\n",
    "print(f\"mean - 2SD = { (np.mean(body[:,1]) - 2*np.std(body[:,1])) }\")\n",
    "print(f\"mean + 2SD = { (np.mean(body[:,1]) + 2*np.std(body[:,1])) }\")\n",
    "\n",
    "print(f\"body shape:   {body.shape}\")\n",
    "print(f\"body_2 shape: {body_2.shape}\")\n",
    "\n",
    "plt.figure(figsize=(10,5))\n",
    "sns.histplot(body[:,0], color=\"lightblue\")\n",
    "plt.show()"
   ]
  },
  {
   "attachments": {},
   "cell_type": "markdown",
   "id": "964d8e89",
   "metadata": {},
   "source": [
    "# Modifying Rows and Columns"
   ]
  },
  {
   "cell_type": "code",
   "execution_count": 19,
   "id": "0afb6b33",
   "metadata": {},
   "outputs": [
    {
     "name": "stdout",
     "output_type": "stream",
     "text": [
      "[[  1   2   3   4 500]\n",
      " [ 10  20  30  40  50]\n",
      " [100 200 300 400   5]]\n"
     ]
    }
   ],
   "source": [
    "A = np.array([\n",
    "    [1, 2, 3, 4, 500],\n",
    "    [10, 20, 30, 40, 50],\n",
    "    [100, 200, 300, 400, 5]\n",
    "])\n",
    "\n",
    "print(A)"
   ]
  },
  {
   "cell_type": "code",
   "execution_count": 20,
   "id": "26234630",
   "metadata": {},
   "outputs": [
    {
     "name": "stdout",
     "output_type": "stream",
     "text": [
      "[[  -1    2    3    4  500]\n",
      " [ -10   20   30   40   50]\n",
      " [-100  200  300  400    5]]\n"
     ]
    }
   ],
   "source": [
    "A[:, 0] = A[:, 0] * -1\n",
    "print(A)"
   ]
  },
  {
   "attachments": {},
   "cell_type": "markdown",
   "id": "9b0ed67e",
   "metadata": {},
   "source": [
    "# Adding Rows and Columns"
   ]
  },
  {
   "cell_type": "code",
   "execution_count": 21,
   "id": "3e7c10c3",
   "metadata": {},
   "outputs": [
    {
     "name": "stdout",
     "output_type": "stream",
     "text": [
      "[[  1   2   3   4 500]\n",
      " [ 10  20  30  40  50]\n",
      " [100 200 300 400   5]]\n"
     ]
    }
   ],
   "source": [
    "A = np.array([\n",
    "    [1, 2, 3, 4, 500],\n",
    "    [10, 20, 30, 40, 50],\n",
    "    [100, 200, 300, 400, 5]\n",
    "])\n",
    "\n",
    "print(A)"
   ]
  },
  {
   "cell_type": "code",
   "execution_count": 22,
   "id": "52a21b2e",
   "metadata": {},
   "outputs": [
    {
     "name": "stdout",
     "output_type": "stream",
     "text": [
      "[[  1.           2.           3.           4.         500.        ]\n",
      " [ 10.          20.          30.          40.          50.        ]\n",
      " [100.         200.         300.         400.           5.        ]\n",
      " [ 10.          14.14213562  17.32050808  20.           2.23606798]]\n"
     ]
    }
   ],
   "source": [
    "A = np.row_stack((A, np.sqrt(A[-1, :])))\n",
    "print(A)"
   ]
  }
 ],
 "metadata": {
  "kernelspec": {
   "display_name": "Python 3 (ipykernel)",
   "language": "python",
   "name": "python3"
  },
  "language_info": {
   "codemirror_mode": {
    "name": "ipython",
    "version": 3
   },
   "file_extension": ".py",
   "mimetype": "text/x-python",
   "name": "python",
   "nbconvert_exporter": "python",
   "pygments_lexer": "ipython3",
   "version": "3.9.5"
  }
 },
 "nbformat": 4,
 "nbformat_minor": 5
}
